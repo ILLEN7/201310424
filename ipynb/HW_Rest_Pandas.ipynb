{
 "cells": [
  {
   "cell_type": "markdown",
   "metadata": {},
   "source": [
    "# 연습 Rest: pandas로 웹 데이터 야후 주식 읽기"
   ]
  },
  {
   "cell_type": "code",
   "execution_count": 3,
   "metadata": {
    "collapsed": false
   },
   "outputs": [],
   "source": [
    "import datetime\n",
    "from pandas.io import data as web\n",
    "start = datetime.datetime(2015,11,1)\n",
    "end = datetime.datetime(2015, 11, 10)\n",
    "soil = web.DataReader(\"010950.KS\", \"yahoo\", start, end)"
   ]
  },
  {
   "cell_type": "code",
   "execution_count": 5,
   "metadata": {
    "collapsed": false
   },
   "outputs": [
    {
     "name": "stdout",
     "output_type": "stream",
     "text": [
      "               Open     High      Low    Close  Volume  Adj Close\n",
      "Date                                                             \n",
      "2015-11-02  67900.0  68400.0  66800.0  68400.0  206300   66836.65\n",
      "2015-11-03  68600.0  69800.0  67600.0  69700.0  331900   68106.93\n",
      "2015-11-04  70900.0  71500.0  70000.0  70300.0  286900   68693.22\n",
      "2015-11-05  69800.0  70000.0  69100.0  69600.0  177600   68009.22\n",
      "2015-11-06  69500.0  69600.0  68900.0  69500.0  141000   67911.50\n",
      "2015-11-09  69300.0  69300.0  67600.0  67600.0  168800   66054.93\n",
      "2015-11-10  66700.0  68300.0  66200.0  67300.0  175600   65761.79\n"
     ]
    }
   ],
   "source": [
    "print soil"
   ]
  },
  {
   "cell_type": "code",
   "execution_count": 6,
   "metadata": {
    "collapsed": false
   },
   "outputs": [
    {
     "name": "stdout",
     "output_type": "stream",
     "text": [
      "                Open      High       Low     Close  Volume\n",
      "Date                                                      \n",
      "2015-11-02  257500.0  259500.0  254500.0  255500.0  153443\n",
      "2015-11-03  257500.0  259000.0  255000.0  255500.0  126434\n",
      "2015-11-04  254500.0  255000.0  250500.0  253000.0  180937\n",
      "2015-11-05  253000.0  256500.0  250500.0  254000.0   85396\n",
      "2015-11-06  253500.0  261000.0  253000.0  258000.0   88942\n",
      "2015-11-09  258500.0  258500.0  251000.0  252500.0   89752\n",
      "2015-11-10  251500.0  252000.0  248500.0  250000.0   79362\n"
     ]
    }
   ],
   "source": [
    "ncsoft = web.DataReader('KRX:036570', data_source='google', start='01/01/2015', end='09/02/2015')\n",
    "sds = web.DataReader('KRX:018260', data_source='google', start='11/01/2015', end='11/10/2015')\n",
    "\n",
    "print sds"
   ]
  }
 ],
 "metadata": {
  "kernelspec": {
   "display_name": "Python [Root]",
   "language": "python",
   "name": "Python [Root]"
  },
  "language_info": {
   "codemirror_mode": {
    "name": "ipython",
    "version": 2
   },
   "file_extension": ".py",
   "mimetype": "text/x-python",
   "name": "python",
   "nbconvert_exporter": "python",
   "pygments_lexer": "ipython2",
   "version": "2.7.12"
  }
 },
 "nbformat": 4,
 "nbformat_minor": 0
}
