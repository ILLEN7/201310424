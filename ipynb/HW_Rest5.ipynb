{
 "cells": [
  {
   "cell_type": "markdown",
   "metadata": {},
   "source": [
    "# HW. REST-5: 2015년 서울시 지하철역별 월별 승하차인원 구하기"
   ]
  },
  {
   "cell_type": "code",
   "execution_count": 2,
   "metadata": {
    "collapsed": false
   },
   "outputs": [],
   "source": [
    "#키값\n",
    "import os\n",
    "keyPath=os.path.join('C:/Users/ILLEN/Documents', 'src','key.properties')\n",
    "\n",
    "f=open(keyPath, 'r')\n",
    "lines=f.readlines()\n",
    "\n",
    "key=dict()\n",
    "for line in lines:\n",
    "    row=line.split('=')\n",
    "    row0=row[0]\n",
    "    key[row0]=row[1].strip()"
   ]
  },
  {
   "cell_type": "code",
   "execution_count": 3,
   "metadata": {
    "collapsed": false
   },
   "outputs": [
    {
     "name": "stdout",
     "output_type": "stream",
     "text": [
      "77657243667369643133357a756f5350\n"
     ]
    }
   ],
   "source": [
    "print key['dataseoul']"
   ]
  },
  {
   "cell_type": "code",
   "execution_count": 7,
   "metadata": {
    "collapsed": false
   },
   "outputs": [],
   "source": [
    "import requests\n",
    "import urlparse\n",
    "\n",
    "KEY=str(key['dataseoul'])\n",
    "TYPE='xml'\n",
    "SERVICE='CardSubwayStatisticsService'\n",
    "START_INDEX=1\n",
    "END_INDEX=5\n",
    "USE_MON='201506'"
   ]
  },
  {
   "cell_type": "code",
   "execution_count": 9,
   "metadata": {
    "collapsed": false
   },
   "outputs": [
    {
     "name": "stdout",
     "output_type": "stream",
     "text": [
      "http://openapi.seoul.go.kr:8088/77657243667369643133357a756f5350/xml/CardSubwayStatisticsService/1/5/201506\n"
     ]
    }
   ],
   "source": [
    "url=\"http://openapi.seoul.go.kr:8088/\"\n",
    "url+=KEY\n",
    "url+='/'\n",
    "url+=TYPE\n",
    "url+='/'\n",
    "url+=SERVICE\n",
    "url+='/'\n",
    "url+=str(START_INDEX)\n",
    "url+='/'\n",
    "url+=str(END_INDEX)\n",
    "url+='/'\n",
    "url+=USE_MON\n",
    "\n",
    "print url"
   ]
  },
  {
   "cell_type": "code",
   "execution_count": 10,
   "metadata": {
    "collapsed": false
   },
   "outputs": [],
   "source": [
    "myurl='http://openapi.seoul.go.kr:8088/77657243667369643133357a756f5350/xml/CardSubwayStatisticsService/1/5/201506'"
   ]
  },
  {
   "cell_type": "code",
   "execution_count": 13,
   "metadata": {
    "collapsed": false,
    "scrolled": true
   },
   "outputs": [
    {
     "name": "stdout",
     "output_type": "stream",
     "text": [
      "<?xml version=\"1.0\" encoding=\"UTF-8\"?><CardSubwayStatisticsService>\n",
      "<list_total_count>556</list_total_count>\n",
      "<RESULT>\n",
      "<CODE>INFO-000</CODE>\n",
      "<MESSAGE>정상 처리되었습니다</MESSAGE>\n",
      "</RESULT>\n",
      "<row>\n",
      "<USE_MON>201506</USE_MON>\n",
      "<LINE_NUM>중앙선</LINE_NUM>\n",
      "<SUB_STA_NM>용문</SUB_STA_NM>\n",
      "<RIDE_PASGR_NUM>83260</RIDE_PASGR_NUM>\n",
      "<ALIGHT_PASGR_NUM>83786</ALIGHT_PASGR_NUM>\n",
      "<WORK_DT>20150708</WORK_DT>\n",
      "<COMMT/>\n",
      "</row>\n",
      "<row>\n",
      "<USE_MON>201506</USE_MON>\n",
      "<LINE_NUM>중앙선</LINE_NUM>\n",
      "<SUB_STA_NM>원덕</SUB_STA_NM>\n",
      "<RIDE_PASGR_NUM>11419</RIDE_PASGR_NUM>\n",
      "<ALIGHT_PASGR_NUM>10687</ALIGHT_PASGR_NUM>\n",
      "<WORK_DT>20150708</WORK_DT>\n",
      "<COMMT/>\n",
      "</row>\n",
      "<row>\n",
      "<USE_MON>201506</USE_MON>\n",
      "<LINE_NUM>중앙선</LINE_NUM>\n",
      "<SUB_STA_NM>양평</SUB_STA_NM>\n",
      "<RIDE_PASGR_NUM>106902</RIDE_PASGR_NUM>\n",
      "<ALIGHT_PASGR_NUM>106661</ALIGHT_PASGR_NUM>\n",
      "<WORK_DT>20150708</WORK_DT>\n",
      "<COMMT/>\n",
      "</row>\n",
      "<row>\n",
      "<USE_MON>201506</USE_MON>\n",
      "<LINE_NUM>중앙선</LINE_NUM>\n",
      "<SUB_STA_NM>오빈</SUB_STA_NM>\n",
      "<RIDE_PASGR_NUM>9476</RIDE_PASGR_NUM>\n",
      "<ALIGHT_PASGR_NUM>9406</ALIGHT_PASGR_NUM>\n",
      "<WORK_DT>20150708</WORK_DT>\n",
      "<COMMT/>\n",
      "</row>\n",
      "<row>\n",
      "<USE_MON>201506</USE_MON>\n",
      "<LINE_NUM>중앙선</LINE_NUM>\n",
      "<SUB_STA_NM>아신</SUB_STA_NM>\n",
      "<RIDE_PASGR_NUM>24383</RIDE_PASGR_NUM>\n",
      "<ALIGHT_PASGR_NUM>24223</ALIGHT_PASGR_NUM>\n",
      "<WORK_DT>20150708</WORK_DT>\n",
      "<COMMT/>\n",
      "</row>\n",
      "</CardSubwayStatisticsService>\n",
      "\n"
     ]
    }
   ],
   "source": [
    "responses=requests.get(myurl).text\n",
    "print responses"
   ]
  },
  {
   "cell_type": "code",
   "execution_count": 15,
   "metadata": {
    "collapsed": false
   },
   "outputs": [
    {
     "data": {
      "text/plain": [
       "unicode"
      ]
     },
     "execution_count": 15,
     "metadata": {},
     "output_type": "execute_result"
    }
   ],
   "source": [
    "type(responses)"
   ]
  },
  {
   "cell_type": "code",
   "execution_count": 18,
   "metadata": {
    "collapsed": false,
    "scrolled": true
   },
   "outputs": [
    {
     "name": "stdout",
     "output_type": "stream",
     "text": [
      "201506\n",
      "중앙선\n",
      "용문\n",
      "83260\n",
      "83786\n",
      "20150708\n",
      "None\n",
      "201506\n",
      "중앙선\n",
      "원덕\n",
      "11419\n",
      "10687\n",
      "20150708\n",
      "None\n",
      "201506\n",
      "중앙선\n",
      "양평\n",
      "106902\n",
      "106661\n",
      "20150708\n",
      "None\n",
      "201506\n",
      "중앙선\n",
      "오빈\n",
      "9476\n",
      "9406\n",
      "20150708\n",
      "None\n",
      "201506\n",
      "중앙선\n",
      "아신\n",
      "24383\n",
      "24223\n",
      "20150708\n",
      "None\n"
     ]
    }
   ],
   "source": [
    "import xml.etree.ElementTree as ET\n",
    "tree=ET.fromstring(responses.encode('utf-8'))\n",
    "\n",
    "stds=tree.findall('row')\n",
    "for elements in stds:\n",
    "    for elm in elements:\n",
    "        print elm.text"
   ]
  }
 ],
 "metadata": {
  "kernelspec": {
   "display_name": "Python [Root]",
   "language": "python",
   "name": "Python [Root]"
  },
  "language_info": {
   "codemirror_mode": {
    "name": "ipython",
    "version": 2
   },
   "file_extension": ".py",
   "mimetype": "text/x-python",
   "name": "python",
   "nbconvert_exporter": "python",
   "pygments_lexer": "ipython2",
   "version": "2.7.12"
  }
 },
 "nbformat": 4,
 "nbformat_minor": 0
}
