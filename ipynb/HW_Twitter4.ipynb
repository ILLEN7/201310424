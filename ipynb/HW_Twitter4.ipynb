{
 "cells": [
  {
   "cell_type": "markdown",
   "metadata": {},
   "source": [
    "# HW. Twitter-4: Twitter에 'Seoul'을 2015년 12월 한 달 분량을 읽는다."
   ]
  },
  {
   "cell_type": "code",
   "execution_count": 2,
   "metadata": {
    "collapsed": true
   },
   "outputs": [],
   "source": [
    "#키값\n",
    "import os\n",
    "keyPath=os.path.join('C:/Users/ILLEN/Documents', 'src','key.properties')\n",
    "\n",
    "f=open(keyPath, 'r')\n",
    "lines=f.readlines()\n",
    "\n",
    "key=dict()\n",
    "for line in lines:\n",
    "    row=line.split('=')\n",
    "    row0=row[0]\n",
    "    key[row0]=row[1].strip()"
   ]
  },
  {
   "cell_type": "code",
   "execution_count": 17,
   "metadata": {
    "collapsed": false
   },
   "outputs": [
    {
     "name": "stdout",
     "output_type": "stream",
     "text": [
      "<twitter.api.Twitter object at 0x0000000003D76D68>\n"
     ]
    }
   ],
   "source": [
    "import twitter\n",
    "\n",
    "auth = twitter.oauth.OAuth(key['ACCESSTOKEN'],key['ACCESSTOKENSECRET'],\n",
    "                            key['CONSUMERKEY'], key['CONSUMERSECRET'])\n",
    "client = twitter.Twitter(auth=auth)\n",
    "print client"
   ]
  },
  {
   "cell_type": "code",
   "execution_count": 29,
   "metadata": {
    "collapsed": true
   },
   "outputs": [],
   "source": [
    "import oauth2 as oauth\n",
    "import json\n",
    "\n",
    "consumer = oauth.Consumer(key=key['CONSUMERKEY'], secret=key['CONSUMERSECRET'])\n",
    "token=oauth.Token(key=key['ACCESSTOKEN'], secret=key['ACCESSTOKENSECRET'])\n",
    "client = oauth.Client(consumer, token)"
   ]
  },
  {
   "cell_type": "code",
   "execution_count": 22,
   "metadata": {
    "collapsed": false
   },
   "outputs": [],
   "source": [
    "q = '#seoul'\n",
    "count = 200\n",
    "max_id='805703606938648577'\n",
    "\n",
    "# See https://dev.twitter.com/docs/api/1.1/get/search/tweets \n",
    "search_results = _client.search.tweets(q=q, count=count, max_id=max_id)\n",
    "statuses = search_results['statuses']"
   ]
  },
  {
   "cell_type": "code",
   "execution_count": 28,
   "metadata": {
    "collapsed": false
   },
   "outputs": [
    {
     "name": "stdout",
     "output_type": "stream",
     "text": [
      "100\n",
      "<type 'list'>\n"
     ]
    }
   ],
   "source": [
    "print len(statuses)\n",
    "print type(statuses)"
   ]
  },
  {
   "cell_type": "code",
   "execution_count": 30,
   "metadata": {
    "collapsed": true
   },
   "outputs": [],
   "source": [
    "import urllib\n",
    "url = \"https://api.twitter.com/1.1/search/tweets.json\"\n",
    "myparam={'q':'seoul','count':200,'max_id':'754295227351871489'}\n",
    "mybody=urllib.urlencode(myparam)\n",
    "response, content = client.request(url+\"?\"+mybody, method=\"GET\")\n",
    "tsearch_json = json.loads(content)"
   ]
  },
  {
   "cell_type": "code",
   "execution_count": 32,
   "metadata": {
    "collapsed": false
   },
   "outputs": [
    {
     "data": {
      "text/plain": [
       "'{\"statuses\":[],\"search_metadata\":{\"completed_in\":0.003,\"max_id\":754295227351871489,\"max_id_str\":\"754295227351871489\",\"query\":\"seoul\",\"refresh_url\":\"?since_id=754295227351871489&q=seoul&include_entities=1\",\"count\":100,\"since_id\":0,\"since_id_str\":\"0\"}}'"
      ]
     },
     "execution_count": 32,
     "metadata": {},
     "output_type": "execute_result"
    }
   ],
   "source": [
    "content"
   ]
  },
  {
   "cell_type": "code",
   "execution_count": 33,
   "metadata": {
    "collapsed": false
   },
   "outputs": [
    {
     "name": "stdout",
     "output_type": "stream",
     "text": [
      "2\n",
      "0\n"
     ]
    }
   ],
   "source": [
    "print len(tsearch_json)\n",
    "print len(tsearch_json['statuses'])"
   ]
  },
  {
   "cell_type": "code",
   "execution_count": 34,
   "metadata": {
    "collapsed": true
   },
   "outputs": [],
   "source": [
    "import urllib\n",
    "url = \"https://api.twitter.com/1.1/search/tweets.json\""
   ]
  },
  {
   "cell_type": "code",
   "execution_count": 35,
   "metadata": {
    "collapsed": false,
    "scrolled": true
   },
   "outputs": [
    {
     "name": "stdout",
     "output_type": "stream",
     "text": [
      "9\n",
      "808366833187360768\n",
      "10\n",
      "808366411223617539\n",
      "9\n",
      "808366243187195905\n",
      "10\n",
      "808365982649491455\n",
      "10\n",
      "808365863967408127\n",
      "10\n",
      "808365595670417407\n",
      "10\n",
      "808365321178361855\n",
      "10\n",
      "808365207361683455\n",
      "10\n",
      "808364919645241344\n",
      "10\n",
      "808364712631173119\n",
      "10\n",
      "808364495420661765\n",
      "6\n",
      "808364265698566143\n",
      "10\n",
      "808364136979525631\n",
      "10\n",
      "808364024953831423\n",
      "10\n",
      "808363905143754751\n",
      "10\n",
      "808363714143469572\n",
      "10\n",
      "808363351034171391\n",
      "10\n",
      "808363171375411200\n",
      "9\n",
      "808362864515784703\n",
      "10\n",
      "808362728763035647\n"
     ]
    }
   ],
   "source": [
    "prev_id=None\n",
    "f=open('_todel3.txt','a')\n",
    "for i in range(0,20):\n",
    "    myparam={'q':'seoul','count':10,'max_id':prev_id}\n",
    "    mybody=urllib.urlencode(myparam)\n",
    "    response, content = client.request(url+\"?\"+mybody, method=\"GET\")\n",
    "    tsearch_json = json.loads(content)\n",
    "    print len(tsearch_json['statuses'])\n",
    "    for i,tweet in enumerate(tsearch_json['statuses']):\n",
    "        #print str(i),tweet['id'],tweet['user']['name'],tweet['text']\n",
    "        f.write(json.dumps([str(i),tweet['id'],tweet['user']['name']]))\n",
    "        f.write(\"\\n\")\n",
    "    #if data[\"statuses\"] == []:\n",
    "    #    print \"end of data\"\n",
    "    #    break\n",
    "    #else:\n",
    "    prev_id=int(tsearch_json['statuses'][-1]['id'])-1\n",
    "    print prev_id\n",
    "f.close()"
   ]
  }
 ],
 "metadata": {
  "kernelspec": {
   "display_name": "Python [Root]",
   "language": "python",
   "name": "Python [Root]"
  },
  "language_info": {
   "codemirror_mode": {
    "name": "ipython",
    "version": 2
   },
   "file_extension": ".py",
   "mimetype": "text/x-python",
   "name": "python",
   "nbconvert_exporter": "python",
   "pygments_lexer": "ipython2",
   "version": "2.7.12"
  }
 },
 "nbformat": 4,
 "nbformat_minor": 0
}
