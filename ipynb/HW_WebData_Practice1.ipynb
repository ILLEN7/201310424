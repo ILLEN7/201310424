{
 "cells": [
  {
   "cell_type": "markdown",
   "metadata": {},
   "source": [
    "# 4가지 방식으로 KOSPI 200 크롤링하기"
   ]
  },
  {
   "cell_type": "code",
   "execution_count": 1,
   "metadata": {
    "collapsed": false,
    "scrolled": true
   },
   "outputs": [
    {
     "name": "stdout",
     "output_type": "stream",
     "text": [
      "Content-Type: text/html; charset=utf-8\r\n",
      "P3P: CP=\"This is not a P3P policy! See https://support.google.com/accounts/answer/151657?hl=en for more info.\"\r\n",
      "Date: Thu, 24 Nov 2016 16:43:05 GMT\r\n",
      "Expires: Thu, 24 Nov 2016 16:43:05 GMT\r\n",
      "Cache-Control: private, max-age=0\r\n",
      "X-Content-Type-Options: nosniff\r\n",
      "X-Frame-Options: SAMEORIGIN\r\n",
      "X-XSS-Protection: 1; mode=block\r\n",
      "Server: GSE\r\n",
      "Set-Cookie: NID=91=mSuwIqnGXcTt5-VeAXr4BcRYkUn79n-PM-TAgGKx2djueBI1i4WwNvFz6g19yDpbmTqTp3Q2BkZG07tlENj14UtEFXkfX3lerTVENqStrdFiTrzF17TPoGoNQNeGeiuT;Domain=.google.com;Path=/;Expires=Fri, 26-May-2017 16:43:05 GMT;HttpOnly\r\n",
      "Alt-Svc: quic=\":443\"; ma=2592000; v=\"36,35,34\"\r\n",
      "Accept-Ranges: none\r\n",
      "Vary: Accept-Encoding\r\n",
      "\n"
     ]
    }
   ],
   "source": [
    "import urllib\n",
    "response=urllib.urlopen('https://www.google.com/finance/historical?q=KRX%3AKOSPI200&ei=sUjxV8maGYKT0gTOz7qoDA')\n",
    "_html=response.read()\n",
    "print response.info()"
   ]
  },
  {
   "cell_type": "markdown",
   "metadata": {},
   "source": [
    "## Regular Expression로 크롤링하기"
   ]
  },
  {
   "cell_type": "code",
   "execution_count": 152,
   "metadata": {
    "collapsed": false
   },
   "outputs": [],
   "source": [
    "import re"
   ]
  },
  {
   "cell_type": "code",
   "execution_count": 224,
   "metadata": {
    "collapsed": false
   },
   "outputs": [],
   "source": [
    "_date=re.compile('<td class=\"lm\">(.*?)\\s(\\d+)\\,\\s(\\d+)') # Sep 30, 2016\n",
    "_ohlc=re.compile('<td class=\"rgt\">(\\d+\\.\\d+)') # Open, High, Low, Close data\n",
    "_vol=re.compile('<td class=\"rgt rm\">(\\d+\\,\\d+\\,\\d+)') # Volume"
   ]
  },
  {
   "cell_type": "code",
   "execution_count": 36,
   "metadata": {
    "collapsed": false
   },
   "outputs": [],
   "source": [
    "res1=_date.findall(_html)\n",
    "res2=_ohlc.findall(_html)\n",
    "res3=_vol.findall(_html)"
   ]
  },
  {
   "cell_type": "code",
   "execution_count": 6,
   "metadata": {
    "collapsed": false
   },
   "outputs": [
    {
     "name": "stdout",
     "output_type": "stream",
     "text": [
      "kospi 200 table(date) 30\n"
     ]
    }
   ],
   "source": [
    "print \"kospi 200 table(date)\", len(res1)"
   ]
  },
  {
   "cell_type": "code",
   "execution_count": 229,
   "metadata": {
    "collapsed": false
   },
   "outputs": [
    {
     "data": {
      "text/plain": [
       "(list, list, list)"
      ]
     },
     "execution_count": 229,
     "metadata": {},
     "output_type": "execute_result"
    }
   ],
   "source": [
    "type(res1), type(res2), type(res3)"
   ]
  },
  {
   "cell_type": "code",
   "execution_count": 8,
   "metadata": {
    "collapsed": false,
    "scrolled": true
   },
   "outputs": [],
   "source": [
    "res1_str=str(res1)\n",
    "f=open(\"kospi_date.txt\",'w')\n",
    "f.write(res1_str)\n",
    "f.close()"
   ]
  },
  {
   "cell_type": "code",
   "execution_count": 9,
   "metadata": {
    "collapsed": false,
    "scrolled": true
   },
   "outputs": [
    {
     "name": "stdout",
     "output_type": "stream",
     "text": [
      "('Nov', '24', '2016')\n",
      "('Nov', '23', '2016')\n",
      "('Nov', '22', '2016')\n",
      "('Nov', '21', '2016')\n",
      "('Nov', '18', '2016')\n",
      "('Nov', '17', '2016')\n",
      "('Nov', '16', '2016')\n",
      "('Nov', '15', '2016')\n",
      "('Nov', '14', '2016')\n",
      "('Nov', '11', '2016')\n",
      "('Nov', '10', '2016')\n",
      "('Nov', '9', '2016')\n",
      "('Nov', '8', '2016')\n",
      "('Nov', '7', '2016')\n",
      "('Nov', '4', '2016')\n",
      "('Nov', '3', '2016')\n",
      "('Nov', '2', '2016')\n",
      "('Nov', '1', '2016')\n",
      "('Oct', '31', '2016')\n",
      "('Oct', '28', '2016')\n",
      "('Oct', '27', '2016')\n",
      "('Oct', '26', '2016')\n",
      "('Oct', '25', '2016')\n",
      "('Oct', '24', '2016')\n",
      "('Oct', '21', '2016')\n",
      "('Oct', '20', '2016')\n",
      "('Oct', '19', '2016')\n",
      "('Oct', '18', '2016')\n",
      "('Oct', '17', '2016')\n",
      "('Oct', '14', '2016')\n"
     ]
    }
   ],
   "source": [
    "for item in res1:\n",
    "    print item"
   ]
  },
  {
   "cell_type": "code",
   "execution_count": 12,
   "metadata": {
    "collapsed": false
   },
   "outputs": [
    {
     "name": "stdout",
     "output_type": "stream",
     "text": [
      "kospi 200 table(open,high,low,close) 120\n"
     ]
    }
   ],
   "source": [
    "print \"kospi 200 table(open,high,low,close)\", len(res2)"
   ]
  },
  {
   "cell_type": "code",
   "execution_count": 13,
   "metadata": {
    "collapsed": true
   },
   "outputs": [],
   "source": [
    "res2_str=str(res2)\n",
    "f=open('kospi_ohlc.txt','w')\n",
    "f.write(res2_str)\n",
    "f.close()"
   ]
  },
  {
   "cell_type": "code",
   "execution_count": 14,
   "metadata": {
    "collapsed": false,
    "scrolled": true
   },
   "outputs": [
    {
     "name": "stdout",
     "output_type": "stream",
     "text": [
      "253.22\n",
      "253.71\n",
      "251.44\n",
      "252.03\n",
      "253.09\n",
      "254.71\n",
      "252.22\n",
      "253.66\n",
      "250.85\n",
      "252.85\n",
      "250.47\n",
      "252.37\n",
      "249.70\n",
      "250.80\n",
      "248.93\n",
      "249.51\n",
      "250.90\n",
      "251.02\n",
      "249.23\n",
      "250.21\n",
      "249.62\n",
      "250.86\n",
      "248.71\n",
      "250.46\n",
      "250.93\n",
      "251.54\n",
      "250.23\n",
      "250.32\n",
      "250.39\n",
      "250.93\n",
      "249.18\n",
      "249.20\n",
      "251.59\n",
      "252.36\n",
      "250.00\n",
      "250.01\n",
      "252.93\n",
      "253.88\n",
      "251.90\n",
      "251.99\n",
      "253.80\n",
      "255.31\n",
      "252.64\n",
      "255.31\n",
      "255.83\n",
      "257.03\n",
      "246.51\n",
      "249.67\n",
      "256.20\n",
      "256.31\n",
      "254.10\n",
      "255.26\n",
      "254.79\n",
      "255.42\n",
      "254.00\n",
      "254.60\n",
      "252.85\n",
      "253.29\n",
      "251.86\n",
      "252.57\n",
      "252.44\n",
      "253.74\n",
      "251.72\n",
      "252.90\n",
      "254.27\n",
      "254.77\n",
      "252.33\n",
      "252.83\n",
      "255.35\n",
      "256.30\n",
      "253.51\n",
      "255.99\n",
      "255.60\n",
      "256.66\n",
      "255.21\n",
      "255.93\n",
      "256.45\n",
      "257.30\n",
      "255.89\n",
      "256.53\n",
      "256.25\n",
      "256.99\n",
      "255.62\n",
      "256.66\n",
      "257.73\n",
      "257.73\n",
      "254.13\n",
      "255.52\n",
      "258.79\n",
      "258.92\n",
      "257.82\n",
      "258.57\n",
      "257.83\n",
      "259.48\n",
      "257.76\n",
      "259.48\n",
      "258.16\n",
      "258.39\n",
      "256.82\n",
      "257.26\n",
      "258.55\n",
      "259.28\n",
      "257.80\n",
      "258.41\n",
      "257.25\n",
      "259.67\n",
      "257.17\n",
      "258.21\n",
      "256.17\n",
      "258.04\n",
      "255.99\n",
      "257.98\n",
      "255.90\n",
      "257.07\n",
      "253.71\n",
      "256.19\n",
      "254.70\n",
      "255.91\n",
      "254.66\n",
      "255.09\n"
     ]
    }
   ],
   "source": [
    "for item2 in res2:\n",
    "    print item2"
   ]
  },
  {
   "cell_type": "code",
   "execution_count": 16,
   "metadata": {
    "collapsed": false
   },
   "outputs": [
    {
     "name": "stdout",
     "output_type": "stream",
     "text": [
      "kospi 200 table(volume) 30\n"
     ]
    }
   ],
   "source": [
    "print \"kospi 200 table(volume)\", len(res3)"
   ]
  },
  {
   "cell_type": "code",
   "execution_count": 17,
   "metadata": {
    "collapsed": true
   },
   "outputs": [],
   "source": [
    "res3_str=str(res3)\n",
    "f=open('kospi_volume.txt','w')\n",
    "f.write(res3_str)\n",
    "f.close()"
   ]
  },
  {
   "cell_type": "code",
   "execution_count": 49,
   "metadata": {
    "collapsed": false,
    "scrolled": true
   },
   "outputs": [
    {
     "name": "stdout",
     "output_type": "stream",
     "text": [
      "53,636,000\n",
      "68,300,000\n",
      "62,525,000\n",
      "55,387,000\n",
      "78,549,000\n",
      "67,352,000\n",
      "79,965,000\n",
      "87,818,000\n",
      "100,351,000\n",
      "101,509,000\n",
      "119,315,000\n",
      "123,178,000\n",
      "46,853,000\n",
      "49,039,000\n",
      "44,617,000\n",
      "56,223,000\n",
      "67,054,000\n",
      "71,630,000\n",
      "59,124,000\n",
      "53,169,000\n",
      "68,404,000\n",
      "65,631,000\n",
      "68,927,000\n",
      "53,738,000\n",
      "52,581,000\n",
      "60,714,000\n",
      "62,057,000\n",
      "59,070,000\n",
      "55,157,000\n",
      "61,589,000\n"
     ]
    }
   ],
   "source": [
    "for item3 in res3:\n",
    "    print item3"
   ]
  },
  {
   "cell_type": "code",
   "execution_count": 45,
   "metadata": {
    "collapsed": false
   },
   "outputs": [
    {
     "name": "stdout",
     "output_type": "stream",
     "text": [
      "[('Nov', '24', '2016'), ('Nov', '23', '2016'), ('Nov', '22', '2016'), ('Nov', '21', '2016'), ('Nov', '18', '2016'), ('Nov', '17', '2016'), ('Nov', '16', '2016'), ('Nov', '15', '2016'), ('Nov', '14', '2016'), ('Nov', '11', '2016'), ('Nov', '10', '2016'), ('Nov', '9', '2016'), ('Nov', '8', '2016'), ('Nov', '7', '2016'), ('Nov', '4', '2016'), ('Nov', '3', '2016'), ('Nov', '2', '2016'), ('Nov', '1', '2016'), ('Oct', '31', '2016'), ('Oct', '28', '2016'), ('Oct', '27', '2016'), ('Oct', '26', '2016'), ('Oct', '25', '2016'), ('Oct', '24', '2016'), ('Oct', '21', '2016'), ('Oct', '20', '2016'), ('Oct', '19', '2016'), ('Oct', '18', '2016'), ('Oct', '17', '2016'), ('Oct', '14', '2016')]\n"
     ]
    }
   ],
   "source": [
    "date_f=open('kospi_date.txt','r')\n",
    "line1=date_f.readline()\n",
    "print line1\n",
    "date_f.close()"
   ]
  },
  {
   "cell_type": "code",
   "execution_count": 46,
   "metadata": {
    "collapsed": false,
    "scrolled": false
   },
   "outputs": [
    {
     "name": "stdout",
     "output_type": "stream",
     "text": [
      "['253.22', '253.71', '251.44', '252.03', '253.09', '254.71', '252.22', '253.66', '250.85', '252.85', '250.47', '252.37', '249.70', '250.80', '248.93', '249.51', '250.90', '251.02', '249.23', '250.21', '249.62', '250.86', '248.71', '250.46', '250.93', '251.54', '250.23', '250.32', '250.39', '250.93', '249.18', '249.20', '251.59', '252.36', '250.00', '250.01', '252.93', '253.88', '251.90', '251.99', '253.80', '255.31', '252.64', '255.31', '255.83', '257.03', '246.51', '249.67', '256.20', '256.31', '254.10', '255.26', '254.79', '255.42', '254.00', '254.60', '252.85', '253.29', '251.86', '252.57', '252.44', '253.74', '251.72', '252.90', '254.27', '254.77', '252.33', '252.83', '255.35', '256.30', '253.51', '255.99', '255.60', '256.66', '255.21', '255.93', '256.45', '257.30', '255.89', '256.53', '256.25', '256.99', '255.62', '256.66', '257.73', '257.73', '254.13', '255.52', '258.79', '258.92', '257.82', '258.57', '257.83', '259.48', '257.76', '259.48', '258.16', '258.39', '256.82', '257.26', '258.55', '259.28', '257.80', '258.41', '257.25', '259.67', '257.17', '258.21', '256.17', '258.04', '255.99', '257.98', '255.90', '257.07', '253.71', '256.19', '254.70', '255.91', '254.66', '255.09']\n"
     ]
    }
   ],
   "source": [
    "ohlc_f=open('kospi_ohlc.txt','r')\n",
    "line2=ohlc_f.readline()\n",
    "print line2\n",
    "ohlc_f.close()"
   ]
  },
  {
   "cell_type": "code",
   "execution_count": 48,
   "metadata": {
    "collapsed": false
   },
   "outputs": [
    {
     "name": "stdout",
     "output_type": "stream",
     "text": [
      "['53,636,000', '68,300,000', '62,525,000', '55,387,000', '78,549,000', '67,352,000', '79,965,000', '87,818,000', '100,351,000', '101,509,000', '119,315,000', '123,178,000', '46,853,000', '49,039,000', '44,617,000', '56,223,000', '67,054,000', '71,630,000', '59,124,000', '53,169,000', '68,404,000', '65,631,000', '68,927,000', '53,738,000', '52,581,000', '60,714,000', '62,057,000', '59,070,000', '55,157,000', '61,589,000']\n"
     ]
    }
   ],
   "source": [
    "vol_f=open('kospi_volume.txt','r')\n",
    "line3=vol_f.readline()\n",
    "print line3\n",
    "vol_f.close()"
   ]
  },
  {
   "cell_type": "markdown",
   "metadata": {},
   "source": [
    "## CSSSelector로 크롤링하기"
   ]
  },
  {
   "cell_type": "code",
   "execution_count": 34,
   "metadata": {
    "collapsed": true
   },
   "outputs": [],
   "source": [
    "# 위치\n",
    "# #prices > table > tbody > tr:nth-child(2)"
   ]
  },
  {
   "cell_type": "code",
   "execution_count": 37,
   "metadata": {
    "collapsed": true
   },
   "outputs": [],
   "source": [
    "import urllib\n",
    "f=urllib.urlopen(\"https://www.google.com/finance/historical?q=KRX%3AKOSPI200&ei=sUjxV8maGYKT0gTOz7qoDA\")\n",
    "mydata=f.read()"
   ]
  },
  {
   "cell_type": "code",
   "execution_count": 46,
   "metadata": {
    "collapsed": true
   },
   "outputs": [],
   "source": [
    "import lxml.html\n",
    "from lxml.cssselect import CSSSelector\n",
    "html = lxml.html.fromstring(mydata)\n",
    "sel = CSSSelector('#prices > table')\n",
    "nodes=sel(html)"
   ]
  },
  {
   "cell_type": "code",
   "execution_count": 48,
   "metadata": {
    "collapsed": false
   },
   "outputs": [
    {
     "data": {
      "text/plain": [
       "1"
      ]
     },
     "execution_count": 48,
     "metadata": {},
     "output_type": "execute_result"
    }
   ],
   "source": [
    "len(nodes)"
   ]
  },
  {
   "cell_type": "code",
   "execution_count": 50,
   "metadata": {
    "collapsed": false,
    "scrolled": true
   },
   "outputs": [
    {
     "name": "stdout",
     "output_type": "stream",
     "text": [
      "\n",
      "\n",
      "Date\n",
      "Open\n",
      "High\n",
      "Low\n",
      "Close\n",
      "Volume\n",
      "\n",
      "Oct 14, 2016\n",
      "254.70\n",
      "255.91\n",
      "254.66\n",
      "255.09\n",
      "61,589,000\n",
      "\n",
      "Oct 13, 2016\n",
      "256.19\n",
      "256.60\n",
      "253.79\n",
      "253.93\n",
      "58,490,000\n",
      "\n",
      "Oct 12, 2016\n",
      "254.69\n",
      "256.67\n",
      "254.56\n",
      "256.20\n",
      "62,692,000\n",
      "\n",
      "Oct 11, 2016\n",
      "259.29\n",
      "260.40\n",
      "255.93\n",
      "256.15\n",
      "68,770,000\n",
      "\n",
      "Oct 10, 2016\n",
      "258.85\n",
      "260.71\n",
      "257.68\n",
      "260.31\n",
      "74,083,000\n",
      "\n",
      "Oct 7, 2016\n",
      "261.17\n",
      "261.53\n",
      "259.73\n",
      "260.06\n",
      "62,369,000\n",
      "\n",
      "Oct 6, 2016\n",
      "261.60\n",
      "261.68\n",
      "259.65\n",
      "261.13\n",
      "64,936,000\n",
      "\n",
      "Oct 5, 2016\n",
      "257.51\n",
      "259.49\n",
      "256.67\n",
      "258.99\n",
      "58,014,000\n",
      "\n",
      "Oct 4, 2016\n",
      "259.51\n",
      "259.74\n",
      "258.55\n",
      "259.18\n",
      "62,561,000\n",
      "\n",
      "Sep 30, 2016\n",
      "258.30\n",
      "258.91\n",
      "257.29\n",
      "257.49\n",
      "74,918,000\n",
      "\n",
      "Sep 29, 2016\n",
      "259.60\n",
      "260.95\n",
      "259.60\n",
      "260.35\n",
      "65,365,000\n",
      "\n",
      "Sep 28, 2016\n",
      "259.32\n",
      "259.46\n",
      "257.96\n",
      "258.21\n",
      "59,186,000\n",
      "\n",
      "Sep 27, 2016\n",
      "256.16\n",
      "259.87\n",
      "255.16\n",
      "259.57\n",
      "58,684,000\n",
      "\n",
      "Sep 26, 2016\n",
      "258.07\n",
      "259.32\n",
      "256.90\n",
      "257.48\n",
      "43,876,000\n",
      "\n",
      "Sep 23, 2016\n",
      "258.44\n",
      "259.14\n",
      "257.71\n",
      "258.37\n",
      "58,392,000\n",
      "\n",
      "Sep 22, 2016\n",
      "258.46\n",
      "259.99\n",
      "258.13\n",
      "258.34\n",
      "59,904,000\n",
      "\n",
      "Sep 21, 2016\n",
      "254.65\n",
      "256.55\n",
      "254.56\n",
      "256.52\n",
      "51,982,000\n",
      "\n",
      "Sep 20, 2016\n",
      "253.86\n",
      "255.23\n",
      "253.33\n",
      "255.09\n",
      "54,626,000\n",
      "\n",
      "Sep 19, 2016\n",
      "251.51\n",
      "254.54\n",
      "251.38\n",
      "253.93\n",
      "59,750,000\n",
      "\n",
      "Sep 13, 2016\n",
      "253.39\n",
      "253.55\n",
      "251.66\n",
      "251.77\n",
      "74,548,000\n",
      "\n",
      "Sep 12, 2016\n",
      "252.37\n",
      "253.43\n",
      "250.53\n",
      "250.53\n",
      "66,332,000\n",
      "\n",
      "Sep 9, 2016\n",
      "258.68\n",
      "258.94\n",
      "256.21\n",
      "257.31\n",
      "70,053,000\n",
      "\n",
      "Sep 8, 2016\n",
      "260.72\n",
      "261.48\n",
      "259.41\n",
      "260.86\n",
      "79,382,000\n",
      "\n",
      "Sep 7, 2016\n",
      "261.15\n",
      "262.10\n",
      "260.31\n",
      "260.31\n",
      "68,749,000\n",
      "\n",
      "Sep 6, 2016\n",
      "259.39\n",
      "261.16\n",
      "259.26\n",
      "260.93\n",
      "49,969,000\n",
      "\n",
      "Sep 5, 2016\n",
      "257.85\n",
      "259.74\n",
      "257.63\n",
      "259.64\n",
      "54,167,000\n",
      "\n",
      "Sep 2, 2016\n",
      "256.16\n",
      "256.73\n",
      "255.57\n",
      "256.50\n",
      "49,266,000\n",
      "\n",
      "Sep 1, 2016\n",
      "254.95\n",
      "256.13\n",
      "253.86\n",
      "256.03\n",
      "56,098,000\n",
      "\n",
      "Aug 31, 2016\n",
      "257.21\n",
      "257.49\n",
      "255.90\n",
      "256.87\n",
      "66,352,000\n",
      "\n",
      "Aug 30, 2016\n",
      "257.27\n",
      "258.93\n",
      "257.00\n",
      "257.49\n",
      "56,516,000\n",
      "\n"
     ]
    }
   ],
   "source": [
    "for node in nodes:\n",
    "    print node.text_content()"
   ]
  },
  {
   "cell_type": "markdown",
   "metadata": {},
   "source": [
    "## xpath로 크롤링하기"
   ]
  },
  {
   "cell_type": "code",
   "execution_count": 275,
   "metadata": {
    "collapsed": true
   },
   "outputs": [],
   "source": [
    "import urllib\n",
    "resp=urllib.urlopen(\"https://www.google.com/finance/historical?q=KRX%3AKOSPI200&ei=sUjxV8maGYKT0gTOz7qoDA\")\n",
    "html=resp.read()\n",
    "resp.close()"
   ]
  },
  {
   "cell_type": "code",
   "execution_count": 276,
   "metadata": {
    "collapsed": true
   },
   "outputs": [],
   "source": [
    "from lxml import etree\n",
    "htmlTree=etree.HTML(html)"
   ]
  },
  {
   "cell_type": "code",
   "execution_count": 277,
   "metadata": {
    "collapsed": false
   },
   "outputs": [],
   "source": [
    "result=etree.tostring(htmlTree, pretty_print=True, method=\"html\")"
   ]
  },
  {
   "cell_type": "code",
   "execution_count": 278,
   "metadata": {
    "collapsed": false
   },
   "outputs": [
    {
     "name": "stdout",
     "output_type": "stream",
     "text": [
      "25375\n"
     ]
    }
   ],
   "source": [
    "print len(result)"
   ]
  },
  {
   "cell_type": "code",
   "execution_count": 313,
   "metadata": {
    "collapsed": false
   },
   "outputs": [],
   "source": [
    "nodes=htmlTree.xpath('//*/td')"
   ]
  },
  {
   "cell_type": "code",
   "execution_count": 324,
   "metadata": {
    "collapsed": false
   },
   "outputs": [
    {
     "data": {
      "text/plain": [
       "(192, list)"
      ]
     },
     "execution_count": 324,
     "metadata": {},
     "output_type": "execute_result"
    }
   ],
   "source": [
    "len(nodes), type(nodes)"
   ]
  },
  {
   "cell_type": "code",
   "execution_count": 330,
   "metadata": {
    "collapsed": false
   },
   "outputs": [
    {
     "name": "stdout",
     "output_type": "stream",
     "text": [
      " \n",
      " \n",
      "261 \n",
      " \n",
      " \n",
      "249 \n",
      " \n",
      " \n",
      "236 \n",
      " Nov 27, 2015\n",
      "None\n",
      "Nov 24, 2016 \n",
      "Nov 24, 2016\n",
      "\n",
      "253.22\n",
      "\n",
      "253.71\n",
      "\n",
      "251.44\n",
      "\n",
      "252.03\n",
      "\n",
      "53,636,000\n",
      "\n",
      "Nov 23, 2016\n",
      "\n",
      "253.09\n",
      "\n",
      "254.71\n",
      "\n",
      "252.22\n",
      "\n",
      "253.66\n",
      "\n",
      "68,300,000\n",
      "\n",
      "Nov 22, 2016\n",
      "\n",
      "250.85\n",
      "\n",
      "252.85\n",
      "\n",
      "250.47\n",
      "\n",
      "252.37\n",
      "\n",
      "62,525,000\n",
      "\n",
      "Nov 21, 2016\n",
      "\n",
      "249.70\n",
      "\n",
      "250.80\n",
      "\n",
      "248.93\n",
      "\n",
      "249.51\n",
      "\n",
      "55,387,000\n",
      "\n",
      "Nov 18, 2016\n",
      "\n",
      "250.90\n",
      "\n",
      "251.02\n",
      "\n",
      "249.23\n",
      "\n",
      "250.21\n",
      "\n",
      "78,549,000\n",
      "\n",
      "Nov 17, 2016\n",
      "\n",
      "249.62\n",
      "\n",
      "250.86\n",
      "\n",
      "248.71\n",
      "\n",
      "250.46\n",
      "\n",
      "67,352,000\n",
      "\n",
      "Nov 16, 2016\n",
      "\n",
      "250.93\n",
      "\n",
      "251.54\n",
      "\n",
      "250.23\n",
      "\n",
      "250.32\n",
      "\n",
      "79,965,000\n",
      "\n",
      "Nov 15, 2016\n",
      "\n",
      "250.39\n",
      "\n",
      "250.93\n",
      "\n",
      "249.18\n",
      "\n",
      "249.20\n",
      "\n",
      "87,818,000\n",
      "\n",
      "Nov 14, 2016\n",
      "\n",
      "251.59\n",
      "\n",
      "252.36\n",
      "\n",
      "250.00\n",
      "\n",
      "250.01\n",
      "\n",
      "100,351,000\n",
      "\n",
      "Nov 11, 2016\n",
      "\n",
      "252.93\n",
      "\n",
      "253.88\n",
      "\n",
      "251.90\n",
      "\n",
      "251.99\n",
      "\n",
      "101,509,000\n",
      "\n",
      "Nov 10, 2016\n",
      "\n",
      "253.80\n",
      "\n",
      "255.31\n",
      "\n",
      "252.64\n",
      "\n",
      "255.31\n",
      "\n",
      "119,315,000\n",
      "\n",
      "Nov 9, 2016\n",
      "\n",
      "255.83\n",
      "\n",
      "257.03\n",
      "\n",
      "246.51\n",
      "\n",
      "249.67\n",
      "\n",
      "123,178,000\n",
      "\n",
      "Nov 8, 2016\n",
      "\n",
      "256.20\n",
      "\n",
      "256.31\n",
      "\n",
      "254.10\n",
      "\n",
      "255.26\n",
      "\n",
      "46,853,000\n",
      "\n",
      "Nov 7, 2016\n",
      "\n",
      "254.79\n",
      "\n",
      "255.42\n",
      "\n",
      "254.00\n",
      "\n",
      "254.60\n",
      "\n",
      "49,039,000\n",
      "\n",
      "Nov 4, 2016\n",
      "\n",
      "252.85\n",
      "\n",
      "253.29\n",
      "\n",
      "251.86\n",
      "\n",
      "252.57\n",
      "\n",
      "44,617,000\n",
      "\n",
      "Nov 3, 2016\n",
      "\n",
      "252.44\n",
      "\n",
      "253.74\n",
      "\n",
      "251.72\n",
      "\n",
      "252.90\n",
      "\n",
      "56,223,000\n",
      "\n",
      "Nov 2, 2016\n",
      "\n",
      "254.27\n",
      "\n",
      "254.77\n",
      "\n",
      "252.33\n",
      "\n",
      "252.83\n",
      "\n",
      "67,054,000\n",
      "\n",
      "Nov 1, 2016\n",
      "\n",
      "255.35\n",
      "\n",
      "256.30\n",
      "\n",
      "253.51\n",
      "\n",
      "255.99\n",
      "\n",
      "71,630,000\n",
      "\n",
      "Oct 31, 2016\n",
      "\n",
      "255.60\n",
      "\n",
      "256.66\n",
      "\n",
      "255.21\n",
      "\n",
      "255.93\n",
      "\n",
      "59,124,000\n",
      "\n",
      "Oct 28, 2016\n",
      "\n",
      "256.45\n",
      "\n",
      "257.30\n",
      "\n",
      "255.89\n",
      "\n",
      "256.53\n",
      "\n",
      "53,169,000\n",
      "\n",
      "Oct 27, 2016\n",
      "\n",
      "256.25\n",
      "\n",
      "256.99\n",
      "\n",
      "255.62\n",
      "\n",
      "256.66\n",
      "\n",
      "68,404,000\n",
      "\n",
      "Oct 26, 2016\n",
      "\n",
      "257.73\n",
      "\n",
      "257.73\n",
      "\n",
      "254.13\n",
      "\n",
      "255.52\n",
      "\n",
      "65,631,000\n",
      "\n",
      "Oct 25, 2016\n",
      "\n",
      "258.79\n",
      "\n",
      "258.92\n",
      "\n",
      "257.82\n",
      "\n",
      "258.57\n",
      "\n",
      "68,927,000\n",
      "\n",
      "Oct 24, 2016\n",
      "\n",
      "257.83\n",
      "\n",
      "259.48\n",
      "\n",
      "257.76\n",
      "\n",
      "259.48\n",
      "\n",
      "53,738,000\n",
      "\n",
      "Oct 21, 2016\n",
      "\n",
      "258.16\n",
      "\n",
      "258.39\n",
      "\n",
      "256.82\n",
      "\n",
      "257.26\n",
      "\n",
      "52,581,000\n",
      "\n",
      "Oct 20, 2016\n",
      "\n",
      "258.55\n",
      "\n",
      "259.28\n",
      "\n",
      "257.80\n",
      "\n",
      "258.41\n",
      "\n",
      "60,714,000\n",
      "\n",
      "Oct 19, 2016\n",
      "\n",
      "257.25\n",
      "\n",
      "259.67\n",
      "\n",
      "257.17\n",
      "\n",
      "258.21\n",
      "\n",
      "62,057,000\n",
      "\n",
      "Oct 18, 2016\n",
      "\n",
      "256.17\n",
      "\n",
      "258.04\n",
      "\n",
      "255.99\n",
      "\n",
      "257.98\n",
      "\n",
      "59,070,000\n",
      "\n",
      "Oct 17, 2016\n",
      "\n",
      "255.90\n",
      "\n",
      "257.07\n",
      "\n",
      "253.71\n",
      "\n",
      "256.19\n",
      "\n",
      "55,157,000\n",
      "\n",
      "Oct 14, 2016\n",
      "\n",
      "254.70\n",
      "\n",
      "255.91\n",
      "\n",
      "254.66\n",
      "\n",
      "255.09\n",
      "\n",
      "61,589,000\n",
      "\n"
     ]
    }
   ],
   "source": [
    "for node in nodes:\n",
    "    print node.text"
   ]
  },
  {
   "cell_type": "markdown",
   "metadata": {},
   "source": [
    "## BeautifulSoup"
   ]
  },
  {
   "cell_type": "code",
   "execution_count": 332,
   "metadata": {
    "collapsed": true
   },
   "outputs": [],
   "source": [
    "import urllib\n",
    "resp=urllib.urlopen(\"https://www.google.com/finance/historical?q=KRX%3AKOSPI200&ei=sUjxV8maGYKT0gTOz7qoDA\")\n",
    "html=resp.read()\n",
    "resp.close()"
   ]
  },
  {
   "cell_type": "code",
   "execution_count": 334,
   "metadata": {
    "collapsed": false
   },
   "outputs": [],
   "source": [
    "from bs4 import BeautifulSoup\n",
    "soup=BeautifulSoup(html)"
   ]
  },
  {
   "cell_type": "code",
   "execution_count": 336,
   "metadata": {
    "collapsed": false
   },
   "outputs": [
    {
     "data": {
      "text/plain": [
       "(23664, str)"
      ]
     },
     "execution_count": 336,
     "metadata": {},
     "output_type": "execute_result"
    }
   ],
   "source": [
    "len(html), type(html)"
   ]
  },
  {
   "cell_type": "code",
   "execution_count": 350,
   "metadata": {
    "collapsed": false
   },
   "outputs": [
    {
     "name": "stdout",
     "output_type": "stream",
     "text": [
      "2 <class 'bs4.BeautifulSoup'>\n"
     ]
    }
   ],
   "source": [
    "print len(soup),\n",
    "print type(soup)"
   ]
  },
  {
   "cell_type": "code",
   "execution_count": 351,
   "metadata": {
    "collapsed": true
   },
   "outputs": [],
   "source": [
    "strongtags=soup('strong')"
   ]
  },
  {
   "cell_type": "code",
   "execution_count": 353,
   "metadata": {
    "collapsed": true
   },
   "outputs": [],
   "source": [
    "for tag in strongtags:\n",
    "    print tag"
   ]
  },
  {
   "cell_type": "code",
   "execution_count": 365,
   "metadata": {
    "collapsed": true
   },
   "outputs": [],
   "source": [
    "ttags=soup.findAll('td')"
   ]
  },
  {
   "cell_type": "code",
   "execution_count": 367,
   "metadata": {
    "collapsed": false
   },
   "outputs": [
    {
     "data": {
      "text/plain": [
       "192"
      ]
     },
     "execution_count": 367,
     "metadata": {},
     "output_type": "execute_result"
    }
   ],
   "source": [
    "len(ttags)"
   ]
  },
  {
   "cell_type": "code",
   "execution_count": 378,
   "metadata": {
    "collapsed": false
   },
   "outputs": [
    {
     "name": "stdout",
     "output_type": "stream",
     "text": [
      " \n",
      " \n",
      "261 \n",
      " \n",
      " \n",
      "249 \n",
      " \n",
      " \n",
      "236 \n",
      " Nov 27, 2015\n",
      "\n",
      "Nov 24, 2016 \n",
      "Nov 24, 2016\n",
      "\n",
      "253.22\n",
      "\n",
      "253.71\n",
      "\n",
      "251.44\n",
      "\n",
      "252.03\n",
      "\n",
      "53,636,000\n",
      "\n",
      "Nov 23, 2016\n",
      "\n",
      "253.09\n",
      "\n",
      "254.71\n",
      "\n",
      "252.22\n",
      "\n",
      "253.66\n",
      "\n",
      "68,300,000\n",
      "\n",
      "Nov 22, 2016\n",
      "\n",
      "250.85\n",
      "\n",
      "252.85\n",
      "\n",
      "250.47\n",
      "\n",
      "252.37\n",
      "\n",
      "62,525,000\n",
      "\n",
      "Nov 21, 2016\n",
      "\n",
      "249.70\n",
      "\n",
      "250.80\n",
      "\n",
      "248.93\n",
      "\n",
      "249.51\n",
      "\n",
      "55,387,000\n",
      "\n",
      "Nov 18, 2016\n",
      "\n",
      "250.90\n",
      "\n",
      "251.02\n",
      "\n",
      "249.23\n",
      "\n",
      "250.21\n",
      "\n",
      "78,549,000\n",
      "\n",
      "Nov 17, 2016\n",
      "\n",
      "249.62\n",
      "\n",
      "250.86\n",
      "\n",
      "248.71\n",
      "\n",
      "250.46\n",
      "\n",
      "67,352,000\n",
      "\n",
      "Nov 16, 2016\n",
      "\n",
      "250.93\n",
      "\n",
      "251.54\n",
      "\n",
      "250.23\n",
      "\n",
      "250.32\n",
      "\n",
      "79,965,000\n",
      "\n",
      "Nov 15, 2016\n",
      "\n",
      "250.39\n",
      "\n",
      "250.93\n",
      "\n",
      "249.18\n",
      "\n",
      "249.20\n",
      "\n",
      "87,818,000\n",
      "\n",
      "Nov 14, 2016\n",
      "\n",
      "251.59\n",
      "\n",
      "252.36\n",
      "\n",
      "250.00\n",
      "\n",
      "250.01\n",
      "\n",
      "100,351,000\n",
      "\n",
      "Nov 11, 2016\n",
      "\n",
      "252.93\n",
      "\n",
      "253.88\n",
      "\n",
      "251.90\n",
      "\n",
      "251.99\n",
      "\n",
      "101,509,000\n",
      "\n",
      "Nov 10, 2016\n",
      "\n",
      "253.80\n",
      "\n",
      "255.31\n",
      "\n",
      "252.64\n",
      "\n",
      "255.31\n",
      "\n",
      "119,315,000\n",
      "\n",
      "Nov 9, 2016\n",
      "\n",
      "255.83\n",
      "\n",
      "257.03\n",
      "\n",
      "246.51\n",
      "\n",
      "249.67\n",
      "\n",
      "123,178,000\n",
      "\n",
      "Nov 8, 2016\n",
      "\n",
      "256.20\n",
      "\n",
      "256.31\n",
      "\n",
      "254.10\n",
      "\n",
      "255.26\n",
      "\n",
      "46,853,000\n",
      "\n",
      "Nov 7, 2016\n",
      "\n",
      "254.79\n",
      "\n",
      "255.42\n",
      "\n",
      "254.00\n",
      "\n",
      "254.60\n",
      "\n",
      "49,039,000\n",
      "\n",
      "Nov 4, 2016\n",
      "\n",
      "252.85\n",
      "\n",
      "253.29\n",
      "\n",
      "251.86\n",
      "\n",
      "252.57\n",
      "\n",
      "44,617,000\n",
      "\n",
      "Nov 3, 2016\n",
      "\n",
      "252.44\n",
      "\n",
      "253.74\n",
      "\n",
      "251.72\n",
      "\n",
      "252.90\n",
      "\n",
      "56,223,000\n",
      "\n",
      "Nov 2, 2016\n",
      "\n",
      "254.27\n",
      "\n",
      "254.77\n",
      "\n",
      "252.33\n",
      "\n",
      "252.83\n",
      "\n",
      "67,054,000\n",
      "\n",
      "Nov 1, 2016\n",
      "\n",
      "255.35\n",
      "\n",
      "256.30\n",
      "\n",
      "253.51\n",
      "\n",
      "255.99\n",
      "\n",
      "71,630,000\n",
      "\n",
      "Oct 31, 2016\n",
      "\n",
      "255.60\n",
      "\n",
      "256.66\n",
      "\n",
      "255.21\n",
      "\n",
      "255.93\n",
      "\n",
      "59,124,000\n",
      "\n",
      "Oct 28, 2016\n",
      "\n",
      "256.45\n",
      "\n",
      "257.30\n",
      "\n",
      "255.89\n",
      "\n",
      "256.53\n",
      "\n",
      "53,169,000\n",
      "\n",
      "Oct 27, 2016\n",
      "\n",
      "256.25\n",
      "\n",
      "256.99\n",
      "\n",
      "255.62\n",
      "\n",
      "256.66\n",
      "\n",
      "68,404,000\n",
      "\n",
      "Oct 26, 2016\n",
      "\n",
      "257.73\n",
      "\n",
      "257.73\n",
      "\n",
      "254.13\n",
      "\n",
      "255.52\n",
      "\n",
      "65,631,000\n",
      "\n",
      "Oct 25, 2016\n",
      "\n",
      "258.79\n",
      "\n",
      "258.92\n",
      "\n",
      "257.82\n",
      "\n",
      "258.57\n",
      "\n",
      "68,927,000\n",
      "\n",
      "Oct 24, 2016\n",
      "\n",
      "257.83\n",
      "\n",
      "259.48\n",
      "\n",
      "257.76\n",
      "\n",
      "259.48\n",
      "\n",
      "53,738,000\n",
      "\n",
      "Oct 21, 2016\n",
      "\n",
      "258.16\n",
      "\n",
      "258.39\n",
      "\n",
      "256.82\n",
      "\n",
      "257.26\n",
      "\n",
      "52,581,000\n",
      "\n",
      "Oct 20, 2016\n",
      "\n",
      "258.55\n",
      "\n",
      "259.28\n",
      "\n",
      "257.80\n",
      "\n",
      "258.41\n",
      "\n",
      "60,714,000\n",
      "\n",
      "Oct 19, 2016\n",
      "\n",
      "257.25\n",
      "\n",
      "259.67\n",
      "\n",
      "257.17\n",
      "\n",
      "258.21\n",
      "\n",
      "62,057,000\n",
      "\n",
      "Oct 18, 2016\n",
      "\n",
      "256.17\n",
      "\n",
      "258.04\n",
      "\n",
      "255.99\n",
      "\n",
      "257.98\n",
      "\n",
      "59,070,000\n",
      "\n",
      "Oct 17, 2016\n",
      "\n",
      "255.90\n",
      "\n",
      "257.07\n",
      "\n",
      "253.71\n",
      "\n",
      "256.19\n",
      "\n",
      "55,157,000\n",
      "\n",
      "Oct 14, 2016\n",
      "\n",
      "254.70\n",
      "\n",
      "255.91\n",
      "\n",
      "254.66\n",
      "\n",
      "255.09\n",
      "\n",
      "61,589,000\n",
      "\n"
     ]
    }
   ],
   "source": [
    "for tag in ttags:\n",
    "    print tag.text"
   ]
  }
 ],
 "metadata": {
  "anaconda-cloud": {},
  "kernelspec": {
   "display_name": "Python [Root]",
   "language": "python",
   "name": "Python [Root]"
  },
  "language_info": {
   "codemirror_mode": {
    "name": "ipython",
    "version": 2
   },
   "file_extension": ".py",
   "mimetype": "text/x-python",
   "name": "python",
   "nbconvert_exporter": "python",
   "pygments_lexer": "ipython2",
   "version": "2.7.12"
  }
 },
 "nbformat": 4,
 "nbformat_minor": 0
}
