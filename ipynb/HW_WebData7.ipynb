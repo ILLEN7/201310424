{
 "cells": [
  {
   "cell_type": "markdown",
   "metadata": {},
   "source": [
    "# HW7. WebData-7. 프리미어리그 크롤링"
   ]
  },
  {
   "cell_type": "code",
   "execution_count": 3,
   "metadata": {
    "collapsed": false
   },
   "outputs": [
    {
     "name": "stdout",
     "output_type": "stream",
     "text": [
      "http://www.bbc.co.uk/sport/football/premier-league/results\n"
     ]
    }
   ],
   "source": [
    "url = 'http://www.bbc.co.uk/sport/football/premier-league/results'\n",
    "print url"
   ]
  },
  {
   "cell_type": "code",
   "execution_count": 5,
   "metadata": {
    "collapsed": true
   },
   "outputs": [],
   "source": [
    "import requests\n",
    "r=requests.get(url)\n",
    "_html=r.text"
   ]
  },
  {
   "cell_type": "code",
   "execution_count": 7,
   "metadata": {
    "collapsed": false
   },
   "outputs": [
    {
     "data": {
      "text/plain": [
       "274176"
      ]
     },
     "execution_count": 7,
     "metadata": {},
     "output_type": "execute_result"
    }
   ],
   "source": [
    "len(_html)"
   ]
  },
  {
   "cell_type": "code",
   "execution_count": 9,
   "metadata": {
    "collapsed": false
   },
   "outputs": [
    {
     "data": {
      "text/plain": [
       "78788"
      ]
     },
     "execution_count": 9,
     "metadata": {},
     "output_type": "execute_result"
    }
   ],
   "source": [
    "_html.find('table-stats')"
   ]
  },
  {
   "cell_type": "code",
   "execution_count": 11,
   "metadata": {
    "collapsed": true
   },
   "outputs": [],
   "source": [
    "def getIndicesOfAllTableStats(string, query):\n",
    "    listindex=list()\n",
    "    offset=0\n",
    "    i = string.find(query, offset)\n",
    "    while i >= 0:\n",
    "        listindex.append(i)\n",
    "        i = string.find(query, i + 1)\n",
    "    return listindex"
   ]
  },
  {
   "cell_type": "code",
   "execution_count": 13,
   "metadata": {
    "collapsed": false
   },
   "outputs": [
    {
     "name": "stdout",
     "output_type": "stream",
     "text": [
      "[78788, 80789, 82778, 91960, 98073, 104162, 106151, 109158, 117329, 120356, 129531, 131528, 134531, 142697, 147778, 153876, 155867, 157844, 159847, 169046, 174133, 180244, 182225, 184208, 186197, 195401, 198452, 207599, 210626, 218761, 220760, 222747, 225764, 245093]\n"
     ]
    }
   ],
   "source": [
    "param1=_html\n",
    "param2='table-stats'\n",
    "_indices=getIndicesOfAllTableStats(param1, param2)\n",
    "print _indices"
   ]
  },
  {
   "cell_type": "code",
   "execution_count": 14,
   "metadata": {
    "collapsed": true
   },
   "outputs": [],
   "source": [
    "from scrapy.selector import Selector\n",
    "nodes=Selector(text=_html).xpath(\"//table[@class='table-stats']/tbody/tr[@class='report']/td[@class='match-details']/p\")"
   ]
  },
  {
   "cell_type": "code",
   "execution_count": 16,
   "metadata": {
    "collapsed": false
   },
   "outputs": [
    {
     "name": "stdout",
     "output_type": "stream",
     "text": [
      "<p>\n",
      "                <span class=\"team-home teams\">\n",
      "                                        <a href=\"/sport/football/teams/west-bromwich-albion\">West Bromwich Albion</a>                </span>\n",
      "                  <span class=\"score\"> <abbr title=\"Score\"> 4-0 </abbr> </span>                  <span class=\"team-away teams\">\n",
      "                    <a href=\"/sport/football/teams/burnley\">Burnley</a>                </span>\n",
      "                                            </p>\n"
     ]
    }
   ],
   "source": [
    "print nodes[0].extract()"
   ]
  },
  {
   "cell_type": "code",
   "execution_count": 17,
   "metadata": {
    "collapsed": false,
    "scrolled": true
   },
   "outputs": [
    {
     "name": "stdout",
     "output_type": "stream",
     "text": [
      "West Bromwich Albion 4-0 4 0 Burnley\n",
      "Middlesbrough 0-1 0 1 Chelsea\n",
      "Manchester United 1-1 1 1 Arsenal\n",
      "Crystal Palace 1-2 1 2 Manchester City\n",
      "Everton 1-1 1 1 Swansea City\n",
      "Southampton 0-0 0 0 Liverpool\n",
      "Stoke City 0-1 0 1 Bournemouth\n",
      "Sunderland 3-0 3 0 Hull City\n",
      "Watford 2-1 2 1 Leicester City\n",
      "Tottenham Hotspur 3-2 3 2 West Ham United\n",
      "Arsenal 1-1 1 1 Tottenham Hotspur\n",
      "Hull City 2-1 2 1 Southampton\n",
      "Liverpool 6-1 6 1 Watford\n",
      "Swansea City 1-3 1 3 Manchester United\n",
      "Leicester City 1-2 1 2 West Bromwich Albion\n",
      "Bournemouth 1-2 1 2 Sunderland\n",
      "Burnley 3-2 3 2 Crystal Palace\n",
      "Manchester City 1-1 1 1 Middlesbrough\n",
      "West Ham United 1-1 1 1 Stoke City\n",
      "Chelsea 5-0 5 0 Everton\n",
      "Stoke City 3-1 3 1 Swansea City\n",
      "Everton 2-0 2 0 West Ham United\n",
      "Southampton 0-2 0 2 Chelsea\n",
      "Sunderland 1-4 1 4 Arsenal\n",
      "Manchester United 0-0 0 0 Burnley\n",
      "Middlesbrough 2-0 2 0 Bournemouth\n",
      "Tottenham Hotspur 1-1 1 1 Leicester City\n",
      "Watford 1-0 1 0 Hull City\n",
      "West Bromwich Albion 0-4 0 4 Manchester City\n",
      "Crystal Palace 2-4 2 4 Liverpool\n",
      "Manchester City 1-1 1 1 Southampton\n",
      "Chelsea 4-0 4 0 Manchester United\n",
      "Bournemouth 0-0 0 0 Tottenham Hotspur\n",
      "Arsenal 0-0 0 0 Middlesbrough\n",
      "Burnley 2-1 2 1 Everton\n",
      "Hull City 0-2 0 2 Stoke City\n",
      "Leicester City 3-1 3 1 Crystal Palace\n",
      "Swansea City 0-0 0 0 Watford\n",
      "West Ham United 1-0 1 0 Sunderland\n",
      "Liverpool 2-1 2 1 West Bromwich Albion\n",
      "Liverpool 0-0 0 0 Manchester United\n",
      "Middlesbrough 0-1 0 1 Watford\n",
      "Southampton 3-1 3 1 Burnley\n",
      "Chelsea 3-0 3 0 Leicester City\n",
      "Arsenal 3-2 3 2 Swansea City\n",
      "Bournemouth 6-1 6 1 Hull City\n",
      "Manchester City 1-1 1 1 Everton\n",
      "Stoke City 2-0 2 0 Sunderland\n",
      "West Bromwich Albion 1-1 1 1 Tottenham Hotspur\n",
      "Crystal Palace 0-1 0 1 West Ham United\n",
      "Manchester United 1-1 1 1 Stoke City\n",
      "Leicester City 0-0 0 0 Southampton\n",
      "Tottenham Hotspur 2-0 2 0 Manchester City\n",
      "Burnley 0-1 0 1 Arsenal\n",
      "Swansea City 1-2 1 2 Liverpool\n",
      "Hull City 0-2 0 2 Chelsea\n",
      "Sunderland 1-1 1 1 West Bromwich Albion\n",
      "Watford 2-2 2 2 Bournemouth\n",
      "West Ham United 1-1 1 1 Middlesbrough\n",
      "Everton 1-1 1 1 Crystal Palace\n",
      "Burnley 2-0 2 0 Watford\n",
      "West Ham United 0-3 0 3 Southampton\n",
      "Manchester United 4-1 4 1 Leicester City\n",
      "Bournemouth 1-0 1 0 Everton\n",
      "Liverpool 5-1 5 1 Hull City\n",
      "Middlesbrough 1-2 1 2 Tottenham Hotspur\n",
      "Stoke City 1-1 1 1 West Bromwich Albion\n",
      "Sunderland 2-3 2 3 Crystal Palace\n",
      "Swansea City 1-3 1 3 Manchester City\n",
      "Arsenal 3-0 3 0 Chelsea\n",
      "Watford 3-1 3 1 Manchester United\n",
      "Crystal Palace 4-1 4 1 Stoke City\n",
      "Southampton 1-0 1 0 Swansea City\n",
      "Tottenham Hotspur 1-0 1 0 Sunderland\n",
      "Hull City 1-4 1 4 Arsenal\n",
      "Leicester City 3-0 3 0 Burnley\n",
      "Manchester City 4-0 4 0 Bournemouth\n",
      "West Bromwich Albion 4-2 4 2 West Ham United\n",
      "Everton 3-1 3 1 Middlesbrough\n",
      "Chelsea 1-2 1 2 Liverpool\n",
      "Sunderland 0-3 0 3 Everton\n",
      "Swansea City 2-2 2 2 Chelsea\n",
      "Manchester United 1-2 1 2 Manchester City\n",
      "Arsenal 2-1 2 1 Southampton\n",
      "Bournemouth 1-0 1 0 West Bromwich Albion\n",
      "Burnley 1-1 1 1 Hull City\n",
      "Middlesbrough 1-2 1 2 Crystal Palace\n",
      "Stoke City 0-4 0 4 Tottenham Hotspur\n",
      "West Ham United 2-4 2 4 Watford\n",
      "Liverpool 4-1 4 1 Leicester City\n",
      "West Bromwich Albion 0-0 0 0 Middlesbrough\n",
      "Manchester City 3-1 3 1 West Ham United\n",
      "Tottenham Hotspur 1-1 1 1 Liverpool\n",
      "Chelsea 3-0 3 0 Burnley\n",
      "Crystal Palace 1-1 1 1 Bournemouth\n",
      "Everton 1-0 1 0 Stoke City\n",
      "Leicester City 2-1 2 1 Swansea City\n",
      "Southampton 1-1 1 1 Sunderland\n",
      "Watford 1-3 1 3 Arsenal\n",
      "Hull City 0-1 0 1 Manchester United\n",
      "Sunderland 1-2 1 2 Middlesbrough\n",
      "West Ham United 1-0 1 0 Bournemouth\n",
      "Stoke City 1-4 1 4 Manchester City\n",
      "Burnley 2-0 2 0 Liverpool\n",
      "Swansea City 0-2 0 2 Hull City\n",
      "Tottenham Hotspur 1-0 1 0 Crystal Palace\n",
      "Watford 1-2 1 2 Chelsea\n",
      "West Bromwich Albion 1-2 1 2 Everton\n",
      "Leicester City 0-0 0 0 Arsenal\n",
      "Manchester United 2-0 2 0 Southampton\n",
      "Chelsea 2-1 2 1 West Ham United\n",
      "Bournemouth 1-3 1 3 Manchester United\n",
      "Arsenal 3-4 3 4 Liverpool\n",
      "Hull City 2-1 2 1 Leicester City\n",
      "Burnley 0-1 0 1 Swansea City\n",
      "Crystal Palace 0-1 0 1 West Bromwich Albion\n",
      "Everton 1-1 1 1 Tottenham Hotspur\n",
      "Middlesbrough 1-1 1 1 Stoke City\n",
      "Southampton 1-1 1 1 Watford\n",
      "Manchester City 2-1 2 1 Sunderland\n"
     ]
    }
   ],
   "source": [
    "for node in nodes:\n",
    "    home_team = node.xpath(\"span[@class='team-home teams']/a/text()\").extract()\n",
    "    score = node.xpath(\"span[@class='score']/abbr/text()\").extract()\n",
    "    away_team = node.xpath(\"span[@class='team-away teams']/a/text()\").extract()\n",
    "    if home_team and score and away_team:\n",
    "        home_team = home_team[0].strip()\n",
    "        score = score[0].strip()\n",
    "        home_goals = int(score.split('-')[0])\n",
    "        away_goals = int(score.split('-')[1])\n",
    "        away_team = away_team[0].strip()\n",
    "    print home_team, score, home_goals, away_goals, away_team"
   ]
  }
 ],
 "metadata": {
  "kernelspec": {
   "display_name": "Python [Root]",
   "language": "python",
   "name": "Python [Root]"
  },
  "language_info": {
   "codemirror_mode": {
    "name": "ipython",
    "version": 2
   },
   "file_extension": ".py",
   "mimetype": "text/x-python",
   "name": "python",
   "nbconvert_exporter": "python",
   "pygments_lexer": "ipython2",
   "version": "2.7.12"
  }
 },
 "nbformat": 4,
 "nbformat_minor": 0
}
