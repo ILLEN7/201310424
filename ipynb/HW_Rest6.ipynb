{
 "cells": [
  {
   "cell_type": "markdown",
   "metadata": {},
   "source": [
    "# HW. Rest-6: 2013년 1년 동안 지하철역 승하차 인원"
   ]
  },
  {
   "cell_type": "code",
   "execution_count": 2,
   "metadata": {
    "collapsed": true
   },
   "outputs": [],
   "source": [
    "#키값\n",
    "import os\n",
    "keyPath=os.path.join('C:/Users/ILLEN/Documents', 'src','key.properties')\n",
    "\n",
    "f=open(keyPath, 'r')\n",
    "lines=f.readlines()\n",
    "\n",
    "key=dict()\n",
    "for line in lines:\n",
    "    row=line.split('=')\n",
    "    row0=row[0]\n",
    "    key[row0]=row[1].strip()"
   ]
  },
  {
   "cell_type": "code",
   "execution_count": 4,
   "metadata": {
    "collapsed": false
   },
   "outputs": [
    {
     "name": "stdout",
     "output_type": "stream",
     "text": [
      "77657243667369643133357a756f5350\n"
     ]
    }
   ],
   "source": [
    "print key['dataseoul']"
   ]
  },
  {
   "cell_type": "code",
   "execution_count": 5,
   "metadata": {
    "collapsed": true
   },
   "outputs": [],
   "source": [
    "KEY=str(key['dataseoul'])\n",
    "TYPE='xml'\n",
    "SERVICE='CardSubwayStatisticsService'\n",
    "START_INDEX='1'\n",
    "END_INDEX='5'\n",
    "USE_MON='201306'"
   ]
  },
  {
   "cell_type": "code",
   "execution_count": 13,
   "metadata": {
    "collapsed": false
   },
   "outputs": [
    {
     "name": "stdout",
     "output_type": "stream",
     "text": [
      "http://openAPI.seoul.go.kr:8088/77657243667369643133357a756f5350/xml/CardSubwayStatisticsService/1/5/201306\n"
     ]
    }
   ],
   "source": [
    "url='http://openAPI.seoul.go.kr:8088'\n",
    "url+='/'\n",
    "url+=KEY\n",
    "url+='/'\n",
    "url+=TYPE\n",
    "url+='/'\n",
    "url+=SERVICE\n",
    "url+='/'\n",
    "url+=START_INDEX\n",
    "url+='/'\n",
    "url+=END_INDEX\n",
    "url+='/'\n",
    "url+=USE_MON\n",
    "print url"
   ]
  },
  {
   "cell_type": "code",
   "execution_count": 12,
   "metadata": {
    "collapsed": true
   },
   "outputs": [],
   "source": [
    "#'1년치'구하기"
   ]
  },
  {
   "cell_type": "code",
   "execution_count": 20,
   "metadata": {
    "collapsed": false,
    "scrolled": true
   },
   "outputs": [
    {
     "name": "stdout",
     "output_type": "stream",
     "text": [
      "<?xml version=\"1.0\" encoding=\"UTF-8\"?><CardSubwayStatisticsService>\n",
      "<list_total_count>530</list_total_count>\n",
      "<RESULT>\n",
      "<CODE>INFO-000</CODE>\n",
      "<MESSAGE>정상 처리되었습니다</MESSAGE>\n",
      "</RESULT>\n",
      "<row>\n",
      "<USE_MON>201306</USE_MON>\n",
      "<LINE_NUM>중앙선</LINE_NUM>\n",
      "<SUB_STA_NM>용문</SUB_STA_NM>\n",
      "<RIDE_PASGR_NUM>111275</RIDE_PASGR_NUM>\n",
      "<ALIGHT_PASGR_NUM>108878</ALIGHT_PASGR_NUM>\n",
      "<WORK_DT>20130723</WORK_DT>\n",
      "<COMMT/>\n",
      "</row>\n",
      "<row>\n",
      "<USE_MON>201306</USE_MON>\n",
      "<LINE_NUM>중앙선</LINE_NUM>\n",
      "<SUB_STA_NM>원덕</SUB_STA_NM>\n",
      "<RIDE_PASGR_NUM>11495</RIDE_PASGR_NUM>\n",
      "<ALIGHT_PASGR_NUM>10964</ALIGHT_PASGR_NUM>\n",
      "<WORK_DT>20130723</WORK_DT>\n",
      "<COMMT/>\n",
      "</row>\n",
      "<row>\n",
      "<USE_MON>201306</USE_MON>\n",
      "<LINE_NUM>중앙선</LINE_NUM>\n",
      "<SUB_STA_NM>양평</SUB_STA_NM>\n",
      "<RIDE_PASGR_NUM>118103</RIDE_PASGR_NUM>\n",
      "<ALIGHT_PASGR_NUM>116604</ALIGHT_PASGR_NUM>\n",
      "<WORK_DT>20130723</WORK_DT>\n",
      "<COMMT/>\n",
      "</row>\n",
      "<row>\n",
      "<USE_MON>201306</USE_MON>\n",
      "<LINE_NUM>중앙선</LINE_NUM>\n",
      "<SUB_STA_NM>오빈</SUB_STA_NM>\n",
      "<RIDE_PASGR_NUM>10590</RIDE_PASGR_NUM>\n",
      "<ALIGHT_PASGR_NUM>10020</ALIGHT_PASGR_NUM>\n",
      "<WORK_DT>20130723</WORK_DT>\n",
      "<COMMT/>\n",
      "</row>\n",
      "<row>\n",
      "<USE_MON>201306</USE_MON>\n",
      "<LINE_NUM>중앙선</LINE_NUM>\n",
      "<SUB_STA_NM>아신</SUB_STA_NM>\n",
      "<RIDE_PASGR_NUM>26304</RIDE_PASGR_NUM>\n",
      "<ALIGHT_PASGR_NUM>26358</ALIGHT_PASGR_NUM>\n",
      "<WORK_DT>20130723</WORK_DT>\n",
      "<COMMT/>\n",
      "</row>\n",
      "</CardSubwayStatisticsService>\n",
      "\n",
      "<?xml version=\"1.0\" encoding=\"UTF-8\"?><CardSubwayStatisticsService>\n",
      "<list_total_count>530</list_total_count>\n",
      "<RESULT>\n",
      "<CODE>INFO-000</CODE>\n",
      "<MESSAGE>정상 처리되었습니다</MESSAGE>\n",
      "</RESULT>\n",
      "<row>\n",
      "<USE_MON>201306</USE_MON>\n",
      "<LINE_NUM>중앙선</LINE_NUM>\n",
      "<SUB_STA_NM>용문</SUB_STA_NM>\n",
      "<RIDE_PASGR_NUM>111275</RIDE_PASGR_NUM>\n",
      "<ALIGHT_PASGR_NUM>108878</ALIGHT_PASGR_NUM>\n",
      "<WORK_DT>20130723</WORK_DT>\n",
      "<COMMT/>\n",
      "</row>\n",
      "<row>\n",
      "<USE_MON>201306</USE_MON>\n",
      "<LINE_NUM>중앙선</LINE_NUM>\n",
      "<SUB_STA_NM>원덕</SUB_STA_NM>\n",
      "<RIDE_PASGR_NUM>11495</RIDE_PASGR_NUM>\n",
      "<ALIGHT_PASGR_NUM>10964</ALIGHT_PASGR_NUM>\n",
      "<WORK_DT>20130723</WORK_DT>\n",
      "<COMMT/>\n",
      "</row>\n",
      "<row>\n",
      "<USE_MON>201306</USE_MON>\n",
      "<LINE_NUM>중앙선</LINE_NUM>\n",
      "<SUB_STA_NM>양평</SUB_STA_NM>\n",
      "<RIDE_PASGR_NUM>118103</RIDE_PASGR_NUM>\n",
      "<ALIGHT_PASGR_NUM>116604</ALIGHT_PASGR_NUM>\n",
      "<WORK_DT>20130723</WORK_DT>\n",
      "<COMMT/>\n",
      "</row>\n",
      "<row>\n",
      "<USE_MON>201306</USE_MON>\n",
      "<LINE_NUM>중앙선</LINE_NUM>\n",
      "<SUB_STA_NM>오빈</SUB_STA_NM>\n",
      "<RIDE_PASGR_NUM>10590</RIDE_PASGR_NUM>\n",
      "<ALIGHT_PASGR_NUM>10020</ALIGHT_PASGR_NUM>\n",
      "<WORK_DT>20130723</WORK_DT>\n",
      "<COMMT/>\n",
      "</row>\n",
      "<row>\n",
      "<USE_MON>201306</USE_MON>\n",
      "<LINE_NUM>중앙선</LINE_NUM>\n",
      "<SUB_STA_NM>아신</SUB_STA_NM>\n",
      "<RIDE_PASGR_NUM>26304</RIDE_PASGR_NUM>\n",
      "<ALIGHT_PASGR_NUM>26358</ALIGHT_PASGR_NUM>\n",
      "<WORK_DT>20130723</WORK_DT>\n",
      "<COMMT/>\n",
      "</row>\n",
      "</CardSubwayStatisticsService>\n",
      "\n"
     ]
    }
   ],
   "source": [
    "import requests\n",
    "\n",
    "_maxIter=2\n",
    "_iter=0\n",
    "while _iter<_maxIter:\n",
    "    myurl='http://openAPI.seoul.go.kr:8088/77657243667369643133357a756f5350/xml/CardSubwayStatisticsService/1/5/201306'\n",
    "    response = requests.get(myurl).text\n",
    "    print response\n",
    "    START_INDEX+='5'\n",
    "    END_INDEX+='5'\n",
    "    _iter+=1"
   ]
  },
  {
   "cell_type": "code",
   "execution_count": 21,
   "metadata": {
    "collapsed": true
   },
   "outputs": [],
   "source": [
    "#json 버전으로"
   ]
  },
  {
   "cell_type": "code",
   "execution_count": 23,
   "metadata": {
    "collapsed": false
   },
   "outputs": [
    {
     "name": "stdout",
     "output_type": "stream",
     "text": [
      "http://openAPI.seoul.go.kr:8088/77657243667369643133357a756f5350/json/CardSubwayStatisticsService/1/5/201306\n"
     ]
    }
   ],
   "source": [
    "KEY=str(key['dataseoul'])\n",
    "TYPE='json'\n",
    "SERVICE='CardSubwayStatisticsService'\n",
    "START_INDEX='1'\n",
    "END_INDEX='5'\n",
    "USE_MON='201306'\n",
    "\n",
    "\n",
    "url='http://openAPI.seoul.go.kr:8088'\n",
    "url+='/'\n",
    "url+=KEY\n",
    "url+='/'\n",
    "url+=TYPE\n",
    "url+='/'\n",
    "url+=SERVICE\n",
    "url+='/'\n",
    "url+=START_INDEX\n",
    "url+='/'\n",
    "url+=END_INDEX\n",
    "url+='/'\n",
    "url+=USE_MON\n",
    "print url"
   ]
  },
  {
   "cell_type": "code",
   "execution_count": 27,
   "metadata": {
    "collapsed": true
   },
   "outputs": [],
   "source": [
    "myurl2='http://openAPI.seoul.go.kr:8088/77657243667369643133357a756f5350/json/CardSubwayStatisticsService/1/5/201306'"
   ]
  },
  {
   "cell_type": "code",
   "execution_count": 31,
   "metadata": {
    "collapsed": false
   },
   "outputs": [
    {
     "name": "stdout",
     "output_type": "stream",
     "text": [
      "{\"CardSubwayStatisticsService\":{\"list_total_count\":530,\"RESULT\":{\"CODE\":\"INFO-000\",\"MESSAGE\":\"정상 처리되었습니다\"},\"row\":[{\"USE_MON\":\"201306\",\"LINE_NUM\":\"중앙선\",\"SUB_STA_NM\":\"용문\",\"RIDE_PASGR_NUM\":111275.0,\"ALIGHT_PASGR_NUM\":108878.0,\"WORK_DT\":\"20130723\",\"COMMT\":\"\"},{\"USE_MON\":\"201306\",\"LINE_NUM\":\"중앙선\",\"SUB_STA_NM\":\"원덕\",\"RIDE_PASGR_NUM\":11495.0,\"ALIGHT_PASGR_NUM\":10964.0,\"WORK_DT\":\"20130723\",\"COMMT\":\"\"},{\"USE_MON\":\"201306\",\"LINE_NUM\":\"중앙선\",\"SUB_STA_NM\":\"양평\",\"RIDE_PASGR_NUM\":118103.0,\"ALIGHT_PASGR_NUM\":116604.0,\"WORK_DT\":\"20130723\",\"COMMT\":\"\"},{\"USE_MON\":\"201306\",\"LINE_NUM\":\"중앙선\",\"SUB_STA_NM\":\"오빈\",\"RIDE_PASGR_NUM\":10590.0,\"ALIGHT_PASGR_NUM\":10020.0,\"WORK_DT\":\"20130723\",\"COMMT\":\"\"},{\"USE_MON\":\"201306\",\"LINE_NUM\":\"중앙선\",\"SUB_STA_NM\":\"아신\",\"RIDE_PASGR_NUM\":26304.0,\"ALIGHT_PASGR_NUM\":26358.0,\"WORK_DT\":\"20130723\",\"COMMT\":\"\"}]}}\n"
     ]
    }
   ],
   "source": [
    "import requests\n",
    "response=requests.get(myurl2).text\n",
    "print response"
   ]
  },
  {
   "cell_type": "code",
   "execution_count": 32,
   "metadata": {
    "collapsed": false
   },
   "outputs": [
    {
     "data": {
      "text/plain": [
       "unicode"
      ]
     },
     "execution_count": 32,
     "metadata": {},
     "output_type": "execute_result"
    }
   ],
   "source": [
    "type(response)"
   ]
  },
  {
   "cell_type": "code",
   "execution_count": 37,
   "metadata": {
    "collapsed": false
   },
   "outputs": [
    {
     "name": "stdout",
     "output_type": "stream",
     "text": [
      "{u'COMMT': u'', u'RIDE_PASGR_NUM': 111275.0, u'WORK_DT': u'20130723', u'LINE_NUM': u'\\uc911\\uc559\\uc120', u'SUB_STA_NM': u'\\uc6a9\\ubb38', u'ALIGHT_PASGR_NUM': 108878.0, u'USE_MON': u'201306'}\n"
     ]
    }
   ],
   "source": [
    "import json\n",
    "jd=json.loads(response)\n",
    "print jd['CardSubwayStatisticsService']['row'][0]"
   ]
  },
  {
   "cell_type": "code",
   "execution_count": 38,
   "metadata": {
    "collapsed": false
   },
   "outputs": [
    {
     "name": "stdout",
     "output_type": "stream",
     "text": [
      "[u'COMMT', u'RIDE_PASGR_NUM', u'WORK_DT', u'LINE_NUM', u'SUB_STA_NM', u'ALIGHT_PASGR_NUM', u'USE_MON']\n",
      "[u'COMMT', u'RIDE_PASGR_NUM', u'WORK_DT', u'LINE_NUM', u'SUB_STA_NM', u'ALIGHT_PASGR_NUM', u'USE_MON']\n",
      "[u'COMMT', u'RIDE_PASGR_NUM', u'WORK_DT', u'LINE_NUM', u'SUB_STA_NM', u'ALIGHT_PASGR_NUM', u'USE_MON']\n",
      "[u'COMMT', u'RIDE_PASGR_NUM', u'WORK_DT', u'LINE_NUM', u'SUB_STA_NM', u'ALIGHT_PASGR_NUM', u'USE_MON']\n",
      "[u'COMMT', u'RIDE_PASGR_NUM', u'WORK_DT', u'LINE_NUM', u'SUB_STA_NM', u'ALIGHT_PASGR_NUM', u'USE_MON']\n"
     ]
    }
   ],
   "source": [
    "for item in jd['CardSubwayStatisticsService']['row']:\n",
    "    print item.keys()\n",
    "    for i in item.keys():\n",
    "        if i=='STATION_NM':\n",
    "            print ''.join(item.values())\n",
    "            print item.values()[1]"
   ]
  }
 ],
 "metadata": {
  "kernelspec": {
   "display_name": "Python [Root]",
   "language": "python",
   "name": "Python [Root]"
  },
  "language_info": {
   "codemirror_mode": {
    "name": "ipython",
    "version": 2
   },
   "file_extension": ".py",
   "mimetype": "text/x-python",
   "name": "python",
   "nbconvert_exporter": "python",
   "pygments_lexer": "ipython2",
   "version": "2.7.12"
  }
 },
 "nbformat": 4,
 "nbformat_minor": 0
}
