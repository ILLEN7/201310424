{
 "cells": [
  {
   "cell_type": "markdown",
   "metadata": {},
   "source": [
    "# HW. Twitter3: Twitter에 'Seoul'을 10개 검색한다."
   ]
  },
  {
   "cell_type": "code",
   "execution_count": 2,
   "metadata": {
    "collapsed": true
   },
   "outputs": [],
   "source": [
    "#키값\n",
    "import os\n",
    "keyPath=os.path.join('C:/Users/ILLEN/Documents', 'src','key.properties')\n",
    "\n",
    "f=open(keyPath, 'r')\n",
    "lines=f.readlines()\n",
    "\n",
    "key=dict()\n",
    "for line in lines:\n",
    "    row=line.split('=')\n",
    "    row0=row[0]\n",
    "    key[row0]=row[1].strip()"
   ]
  },
  {
   "cell_type": "code",
   "execution_count": 3,
   "metadata": {
    "collapsed": false
   },
   "outputs": [
    {
     "name": "stdout",
     "output_type": "stream",
     "text": [
      "<twitter.api.Twitter object at 0x0000000003D686D8>\n"
     ]
    }
   ],
   "source": [
    "import twitter\n",
    "\n",
    "auth = twitter.oauth.OAuth(key['ACCESSTOKEN'],key['ACCESSTOKENSECRET'],\n",
    "                            key['CONSUMERKEY'], key['CONSUMERSECRET'])\n",
    "_client = twitter.Twitter(auth=auth)\n",
    "print _client"
   ]
  },
  {
   "cell_type": "code",
   "execution_count": 27,
   "metadata": {
    "collapsed": true
   },
   "outputs": [],
   "source": [
    "import oauth2 as oauth\n",
    "import json\n",
    "\n",
    "consumer = oauth.Consumer(key=key['CONSUMERKEY'], secret=key['CONSUMERSECRET'])\n",
    "token=oauth.Token(key=key['ACCESSTOKEN'], secret=key['ACCESSTOKENSECRET'])\n",
    "client = oauth.Client(consumer, token)"
   ]
  },
  {
   "cell_type": "code",
   "execution_count": 23,
   "metadata": {
    "collapsed": false
   },
   "outputs": [],
   "source": [
    "q = '#seoul'\n",
    "count = 20\n",
    "# See https://dev.twitter.com/docs/api/1.1/get/search/tweets \n",
    "search_results = _client.search.tweets(q=q, count=count)\n",
    "statuses = search_results['statuses']"
   ]
  },
  {
   "cell_type": "code",
   "execution_count": 24,
   "metadata": {
    "collapsed": false
   },
   "outputs": [
    {
     "name": "stdout",
     "output_type": "stream",
     "text": [
      "20\n",
      "<type 'list'>\n"
     ]
    }
   ],
   "source": [
    "print len(statuses)\n",
    "print type(statuses)"
   ]
  },
  {
   "cell_type": "code",
   "execution_count": 25,
   "metadata": {
    "collapsed": false
   },
   "outputs": [
    {
     "name": "stdout",
     "output_type": "stream",
     "text": [
      "[u'contributors', u'truncated', u'text', u'is_quote_status', u'in_reply_to_status_id', u'id', u'favorite_count', u'entities', u'retweeted', u'coordinates', u'source', u'in_reply_to_screen_name', u'in_reply_to_user_id', u'retweet_count', u'id_str', u'favorited', u'user', u'geo', u'in_reply_to_user_id_str', u'possibly_sensitive', u'lang', u'created_at', u'in_reply_to_status_id_str', u'place', u'metadata']\n"
     ]
    }
   ],
   "source": [
    "print statuses[0].keys()"
   ]
  },
  {
   "cell_type": "code",
   "execution_count": 26,
   "metadata": {
    "collapsed": false,
    "scrolled": true
   },
   "outputs": [
    {
     "name": "stdout",
     "output_type": "stream",
     "text": [
      "[0]\t808361829961519104\tLuDow Music:Cock socks 2 for $1 😂 #myeongdong #seoul #korea🇰🇷 #jetsetter #weinternational #gonnamisskorea… https://t.co/kbzV14vPDK\n",
      "[1]\t808360340685721600\tBärbel Schierle:RT @sahouraxo: Millions continue to demand the resignation of President Park. Never seen a city light up in protest quite like #Seoul. Gorg…\n",
      "[2]\t808359493893492736\tWinnie guy:Protest in #Seoul July/August 2016 against the #DogMeatTrade #SouthKorea📰#KoreanDogsReports➡@YonhapNews https://t.co/r4edeTmlhK\n",
      "[3]\t808359377539366912\tWinnie guy:Protest event in #Seoul July/August 2016 #StopBoknal2016📰#KoreanDogsReports➡@newsis https://t.co/Y3Pb6TEhBK https://t.co/OCIAHrMSsl\n",
      "[4]\t808354660205600769\tBusiness France Mode:\"@murielpenicaud: #FranceKoreayear #Seoul: 250 events @Créative France @businessfrance https://t.co/o5iMckwH2M\"\n",
      "[5]\t808354142485741568\texo♥︎timebot:#EXO #Seoul #FROMLOSTPLANET https://t.co/H9gaziakdj\n",
      "[6]\t808352713477980160\tVMware Jobs:We're #hiring! Read about our latest #job opening here: Technical Account Manager - https://t.co/QpYGROI0w6 #Seoul\n",
      "[7]\t808352370476412928\tMarc Martinant:RT @businessfrance: #Korea @murielpenicaud continue son tour d'Asie. Aujourd'hui à #Seoul pour l'année franco-coréenne!\n",
      "[8]\t808352185482444800\tNT:@CNN @Foxnews #Seoul #Osaka #Japan China warns Trump about ignoring its Taiwan interests ..no mention of North Korea https://t.co/wVVAcyoMte\n",
      "[9]\t808351813443330049\t#선릉러시아 #강남야구장℡#선릉안마▦:강남안마&amp;러시아오피&amp;서울출장안마\n",
      "《OIO↔2791↔8177》\n",
      "#seoul\n",
      "#서울백마타는곳\n",
      "#서울러시아백마\n",
      "#강남역출장\n",
      "#선릉백마\n",
      "#선릉러시아\n",
      "#선릉러시아가격\n",
      "♥\n",
      "Sexy Korean Girl Hotel Delivery Service\n",
      "#삼성동백마출장\n",
      "[10]\t808351532173377536\t莊美玉:JYP ent\n",
      ".\n",
      ".\n",
      ".\n",
      "#jypentertainment #seoul #kpop #agency #idol #building https://t.co/KBfS2pAZ2i\n",
      "[11]\t808351181491703808\tEat.Like.Share:Are you in the mood for some #Seoul food?! https://t.co/jkyKMcIc36 https://t.co/jeLFXVWuFW https://t.co/tgeIdYrZSf\n",
      "[12]\t808350331025309696\tChristine Gneuss:Last month's trip to #Seoul, #Korea, left quite an impression on me. \n",
      "Here the whole album: https://t.co/mBnTfQQzdI… https://t.co/syTQamRP5i\n",
      "[13]\t808347303710855170\tPhilipp Jundt:Salvatore Lombardi &amp; Seoul Flute Trio\n",
      "\n",
      "Italian Composers Concert\n",
      "\n",
      "#flute #jundt #flöte #Falaut #Lombardi #Seoul… https://t.co/RjrmfttNno\n",
      "[14]\t808344200282419200\tHappyOpAp:สีชมพู กราฟฟิตี้ ที่ Bukchon Hanok #seoul 💕💕💕 https://t.co/uhCO9A7RfL\n",
      "[15]\t808343965338509312\t#선릉러시아 #강남야구장℡#선릉안마▦:강남안마&amp;러시아오피&amp;서울출장안마\n",
      "《OIO↔2791↔8177》\n",
      "#seoul\n",
      "#서울백마타는곳\n",
      "#서울러시아백마\n",
      "#강남역출장\n",
      "#선릉백마\n",
      "#선릉러시아\n",
      "#선릉러시아가격\n",
      "♥\n",
      "Sexy Korean Girl Hotel Delivery Service\n",
      "#왕십리러시아\n",
      "[16]\t808343536018006017\t김창용:#고양이 #cat #猫 #neko #atsume #sleep #free #stray #life #everydayseoul #seoul #korea https://t.co/79VRtuYK6g\n",
      "[17]\t808343071385497600\t• pairtamin •:โรงแรมแถวเมียงดง ควรพักที่ไหนดี ใครแนะนำได้บ้าง แบบมีพร้อม ห้องเล็กได้ มีไวไฟ  ราคากลางๆแบบที่ไม่ใช่เกตเฮ้าส์;___;  #seoul\n",
      "[18]\t808342351404036096\tⓞⓛⓔ 🐾:It's late night here and I'm missing you. \n",
      "#Seoul #realwinter #businesstrip @ La Casa Hotel,… https://t.co/onGUxCuULc\n",
      "[19]\t808341408302055424\tAQUAseoulescrot:Our Best, Most Genuine Premium Hotel Escort stand by Service.\n",
      "\"https://t.co/oQTxwOaNSy\"\n",
      "\"http://aquaseoul ##seoul esocrt,#seoul escorts\n"
     ]
    }
   ],
   "source": [
    "for i,tweet in enumerate(statuses):\n",
    "    #print tweet[u'user'][u'name']\n",
    "    print \"[%d]\\t%d\\t%s:%s\" % (i,tweet['id'],tweet['user']['name'],tweet['text'])"
   ]
  },
  {
   "cell_type": "code",
   "execution_count": 28,
   "metadata": {
    "collapsed": true
   },
   "outputs": [],
   "source": [
    "import urllib\n",
    "url1 = 'https://api.twitter.com/1.1/search/tweets.json'\n",
    "myparam={'q':'seoul','count':20}\n",
    "mybody=urllib.urlencode(myparam)\n",
    "\n",
    "resp, tsearch = client.request(url1+\"?\"+mybody, method=\"GET\")\n",
    "tsearch_json = json.loads(tsearch)"
   ]
  },
  {
   "cell_type": "code",
   "execution_count": 29,
   "metadata": {
    "collapsed": false
   },
   "outputs": [
    {
     "name": "stdout",
     "output_type": "stream",
     "text": [
      "<type 'dict'>\n",
      "[u'search_metadata', u'statuses']\n",
      "20\n"
     ]
    }
   ],
   "source": [
    "print type(tsearch_json)\n",
    "print tsearch_json.keys()\n",
    "print len(tsearch_json['statuses'])"
   ]
  },
  {
   "cell_type": "code",
   "execution_count": 30,
   "metadata": {
    "collapsed": false
   },
   "outputs": [
    {
     "data": {
      "text/plain": [
       "25"
      ]
     },
     "execution_count": 30,
     "metadata": {},
     "output_type": "execute_result"
    }
   ],
   "source": [
    "len(tsearch_json['statuses'][0])"
   ]
  },
  {
   "cell_type": "code",
   "execution_count": 31,
   "metadata": {
    "collapsed": false,
    "scrolled": true
   },
   "outputs": [
    {
     "name": "stdout",
     "output_type": "stream",
     "text": [
      "[0]\t808366601594499072\twhphwolo:RT @miss_JKMR: 【Seoul•2000-day anniversary event】\n",
      "Sinsa Broadway Lotte cinema\n",
      "Pre mapping advertising 30s\n",
      "2016.12.13-2017.01.12\n",
      "@soliel0904…\n",
      "[1]\t808366592606113792\t틴초:RT @C94517434: 서울 신문에도 보도되었습니다 감사합니다.\n",
      " https://t.co/nSJbac3MoN\n",
      "[2]\t808366565800296448\t♕vanilla♕:i want.... seoul garden....\n",
      "[3]\t808366541305741321\t空虚‏ ‏️‏️:RT @TravelVSCO: Seoul, South Korea 🇰🇷 https://t.co/t5eYjzGVFT\n",
      "[4]\t808366473232191488\tReen✨:RT @EXOpassion: !! شرح كامل تحت هذه التغريده للتصويت لحفل Seoul music awards لنظام ios والاندرويد ، الفارق قليل استمرو بالتصويت! https://t.…\n",
      "[5]\t808366471650877441\tKARD DEBUTED:RT @ftsuhyun: akmu's first live concert tour, AKMUCAMP, took place on 21–23 November at Blue Square Samsung Card Hall, Seoul. https://t.co/…\n",
      "[6]\t808366427002519553\tFeriel_exol:RT @EXOpassion: !! شرح كامل تحت هذه التغريده للتصويت لحفل Seoul music awards لنظام ios والاندرويد ، الفارق قليل استمرو بالتصويت! https://t.…\n",
      "[7]\t808366420388155392\tZozo:RT @TeukBar: 20161211 #StarTeuk back to Seoul at ICN airport https://t.co/2b7etCR5VJ\n",
      "[8]\t808366411223617540\ta l e x a 아:RT @bangtae_x: Me and alexa when big bang fxxk it comes on at seoul rush https://t.co/v1fnWhz5pd\n",
      "[9]\t808366409239523328\tkristhebest:RT @SecretOfGod100: #WuYiFan #KrisWu 😭\n",
      "\n",
      "161212 Seoul ✈️ Beijing\n",
      "\n",
      "161213 Beijing ✈️ Los Angeles\n",
      "\n",
      "161217 Los Angeles ✈️ Beijing https://t.co/…\n",
      "[10]\t808366403644518400\tKaren:RT @springrain_dw: 161210 Winter Fanmeeting in Seoul #동우 🎅🎄 우리 강쥐 산타모자 써또 💖 ｡ﾟ( ﾟஇωஇﾟ)ﾟ｡ https://t.co/UaD5hVkMAF\n",
      "[11]\t808366388574175232\t선릉야구장◀OIO↔3O94↔6558:#역삼포커스\n",
      "#교대룸살롱OIOx3O94x6558\n",
      "#교대룸살롱\n",
      "#교대풀싸롱\n",
      "#선릉풀싸롱\n",
      "#강남풀싸롱\n",
      "#강남풀살롱\n",
      "#강남야구장\n",
      "#선릉야구장\n",
      "#선릉룸바\n",
      "♥\n",
      "#매직미러초이스\n",
      "#매직미러초이스OIOx3O94x6558\n",
      "《강남유흥OIO↔3O94↔6558대표번호》\n",
      "[12]\t808366378663157763\tKaren:RT @springrain_dw: 161210 Winter Fanmeeting in Seoul #동우 🎅🎄 손목 손톱마저..귀여우면 오토카지..?? .ଘ(੭ु*ˊ꒳​ˋ)੭ु*.°♡˚‧º· https://t.co/6xlffOVUjx\n",
      "[13]\t808366373688643584\t♀nne.:RT @_chahun: 🎁แจก THE LOST PLANET in SEOUL\n",
      "❤️กติกา❤️\n",
      "✅รี+ฟอลทวิตนี้\n",
      "✅สงวนสิทธิ์ให้ฟอลโลเวอร์เท่านั้น\n",
      "✅วันประกาศเดี๋ยวจะมาแจ้งก่อนสุ่ม1วัน h…\n",
      "[14]\t808366352201228288\tHKG Arrivals:Flight #UO3627 (HK Express) from Seoul/ICN arrived at gate 01:36.\n",
      "[15]\t808366350141898753\tHKG Departures:Flight #7C2108 (JEJU AIR) to Seoul/ICN departed at 01:34.\n",
      "[16]\t808366250581585920\t🌬ニコ:@drataeni yeah I saw epilogue in Manila but I won't arrive to Seoul again until September this time so.. idk what stops will be left\n",
      "[17]\t808366243187195906\tAyneetja:I really want to go to Seoul...and Busan..and Daegu and everywhere in South Korea plz\n",
      "[18]\t808366230298038272\tDevyn Kringle 🎅:Last night I asked for chicken at Seoul Taco and they gave me beef and they were out of queso by 8pm... Never going back there again.\n",
      "[19]\t808366177990737921\tM3J:RT @miss_JKMR: 【Seoul•2000-day anniversary event】\n",
      "Sinsa Broadway Lotte cinema\n",
      "Pre mapping advertising 30s\n",
      "2016.12.13-2017.01.12\n",
      "@soliel0904…\n"
     ]
    }
   ],
   "source": [
    "for i,tweet in enumerate(tsearch_json['statuses']):\n",
    "    #print tweet[u'user'][u'name']\n",
    "    print \"[%d]\\t%d\\t%s:%s\" % (i,tweet['id'],tweet['user']['name'],tweet['text'])"
   ]
  }
 ],
 "metadata": {
  "anaconda-cloud": {},
  "kernelspec": {
   "display_name": "Python [Root]",
   "language": "python",
   "name": "Python [Root]"
  },
  "language_info": {
   "codemirror_mode": {
    "name": "ipython",
    "version": 2
   },
   "file_extension": ".py",
   "mimetype": "text/x-python",
   "name": "python",
   "nbconvert_exporter": "python",
   "pygments_lexer": "ipython2",
   "version": "2.7.12"
  }
 },
 "nbformat": 4,
 "nbformat_minor": 0
}
