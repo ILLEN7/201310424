{
 "cells": [
  {
   "cell_type": "markdown",
   "metadata": {},
   "source": [
    "# Rest-3. 서울시 노선별 지하철역 목록 구하기"
   ]
  },
  {
   "cell_type": "code",
   "execution_count": 27,
   "metadata": {
    "collapsed": false
   },
   "outputs": [],
   "source": [
    "import os\n",
    "KeyPath=os.path.join('C:/Users/ILLEN/Documents','src','key.properties')\n",
    "\n",
    "def GetKey(KeyPath):\n",
    "    d=dict()\n",
    "    f=open(KeyPath,'r')\n",
    "    for line in f.readlines():\n",
    "        row=line.split('=')\n",
    "        row0=row[0]\n",
    "        d[row0]=row[1].strip()\n",
    "    return d\n",
    "\n",
    "key=GetKey(KeyPath)"
   ]
  },
  {
   "cell_type": "code",
   "execution_count": 28,
   "metadata": {
    "collapsed": false
   },
   "outputs": [
    {
     "data": {
      "text/plain": [
       "'77657243667369643133357a756f5350'"
      ]
     },
     "execution_count": 28,
     "metadata": {},
     "output_type": "execute_result"
    }
   ],
   "source": [
    "key['dataseoul']"
   ]
  },
  {
   "cell_type": "code",
   "execution_count": 40,
   "metadata": {
    "collapsed": false
   },
   "outputs": [],
   "source": [
    "KEY=str(key['dataseoul'])\n",
    "TYPE='xml'\n",
    "SERVICE='SearchSTNBySubwayLineService'\n",
    "START_INDEX=str(1)\n",
    "END_INDEX=str(10)\n",
    "LINE_NUM=str(2)"
   ]
  },
  {
   "cell_type": "code",
   "execution_count": 42,
   "metadata": {
    "collapsed": false
   },
   "outputs": [
    {
     "name": "stdout",
     "output_type": "stream",
     "text": [
      "0\\xml\\SearchSTNBySubwayLineService\\1\\10\\2\n"
     ]
    }
   ],
   "source": [
    "# URL 만들기 방법 1\n",
    "\n",
    "params=os.path.join(KEY,TYPE,SERVICE,START_INDEX,END_INDEX,LINE_NUM)\n",
    "print params[31:]\n",
    "\n",
    "import urlparse\n",
    "_url='http://openapi.seoul.go.kr:8088/'\n",
    "url1=urlparse.urljoin(_url,params)"
   ]
  },
  {
   "cell_type": "code",
   "execution_count": 43,
   "metadata": {
    "collapsed": false
   },
   "outputs": [
    {
     "name": "stdout",
     "output_type": "stream",
     "text": [
      "http://openapi.seoul.go.kr:8088/77657243667369643133357a756f5350/xml/SearchSTNBySubwayLineService/1/10/2\n"
     ]
    }
   ],
   "source": [
    "# URL 만들기 방법 2\n",
    "url='http://openapi.seoul.go.kr:8088/'\n",
    "url+=KEY\n",
    "url+='/'\n",
    "url+=TYPE\n",
    "url+='/'\n",
    "url+=SERVICE\n",
    "url+='/'\n",
    "url+=START_INDEX\n",
    "url+='/'\n",
    "url+=END_INDEX\n",
    "url+='/'\n",
    "url+=LINE_NUM\n",
    "\n",
    "print url"
   ]
  },
  {
   "cell_type": "code",
   "execution_count": 44,
   "metadata": {
    "collapsed": true
   },
   "outputs": [],
   "source": [
    "myurl='http://openapi.seoul.go.kr:8088/77657243667369643133357a756f5350/xml/SearchSTNBySubwayLineService/1/10/2'"
   ]
  },
  {
   "cell_type": "code",
   "execution_count": 54,
   "metadata": {
    "collapsed": false,
    "scrolled": true
   },
   "outputs": [
    {
     "ename": "AttributeError",
     "evalue": "'str' object has no attribute 'text'",
     "output_type": "error",
     "traceback": [
      "\u001b[1;31m---------------------------------------------------------------------------\u001b[0m",
      "\u001b[1;31mAttributeError\u001b[0m                            Traceback (most recent call last)",
      "\u001b[1;32m<ipython-input-54-3390dcc0fed3>\u001b[0m in \u001b[0;36m<module>\u001b[1;34m()\u001b[0m\n\u001b[0;32m      3\u001b[0m \u001b[1;32mimport\u001b[0m \u001b[0murllib\u001b[0m\u001b[1;33m\u001b[0m\u001b[0m\n\u001b[0;32m      4\u001b[0m \u001b[0mrequests\u001b[0m\u001b[1;33m=\u001b[0m\u001b[0murllib\u001b[0m\u001b[1;33m.\u001b[0m\u001b[0murlopen\u001b[0m\u001b[1;33m(\u001b[0m\u001b[0mmyurl\u001b[0m\u001b[1;33m)\u001b[0m\u001b[1;33m\u001b[0m\u001b[0m\n\u001b[1;32m----> 5\u001b[1;33m \u001b[0mresponse\u001b[0m\u001b[1;33m=\u001b[0m\u001b[0mrequests\u001b[0m\u001b[1;33m.\u001b[0m\u001b[0mread\u001b[0m\u001b[1;33m(\u001b[0m\u001b[1;33m)\u001b[0m\u001b[1;33m.\u001b[0m\u001b[0mtext\u001b[0m\u001b[1;33m\u001b[0m\u001b[0m\n\u001b[0m\u001b[0;32m      6\u001b[0m \u001b[1;32mprint\u001b[0m \u001b[0mresponse\u001b[0m\u001b[1;33m\u001b[0m\u001b[0m\n",
      "\u001b[1;31mAttributeError\u001b[0m: 'str' object has no attribute 'text'"
     ]
    }
   ],
   "source": [
    "#myurl 불러오기 방법 1\n",
    "\n",
    "import urllib\n",
    "requests=urllib.urlopen(myurl)\n",
    "response=requests.read().text\n",
    "print response"
   ]
  },
  {
   "cell_type": "code",
   "execution_count": 52,
   "metadata": {
    "collapsed": false
   },
   "outputs": [
    {
     "data": {
      "text/plain": [
       "str"
      ]
     },
     "execution_count": 52,
     "metadata": {},
     "output_type": "execute_result"
    }
   ],
   "source": [
    "type(response)"
   ]
  },
  {
   "cell_type": "code",
   "execution_count": 50,
   "metadata": {
    "collapsed": false,
    "scrolled": true
   },
   "outputs": [
    {
     "name": "stdout",
     "output_type": "stream",
     "text": [
      "<?xml version=\"1.0\" encoding=\"UTF-8\"?><SearchSTNBySubwayLineService>\n",
      "<list_total_count>51</list_total_count>\n",
      "<RESULT>\n",
      "<CODE>INFO-000</CODE>\n",
      "<MESSAGE>정상 처리되었습니다</MESSAGE>\n",
      "</RESULT>\n",
      "<row>\n",
      "<STATION_CD>0201</STATION_CD>\n",
      "<STATION_NM>시청</STATION_NM>\n",
      "<LINE_NUM>2</LINE_NUM>\n",
      "<FR_CODE>201</FR_CODE>\n",
      "</row>\n",
      "<row>\n",
      "<STATION_CD>0202</STATION_CD>\n",
      "<STATION_NM>을지로입구</STATION_NM>\n",
      "<LINE_NUM>2</LINE_NUM>\n",
      "<FR_CODE>202</FR_CODE>\n",
      "</row>\n",
      "<row>\n",
      "<STATION_CD>0203</STATION_CD>\n",
      "<STATION_NM>을지로3가</STATION_NM>\n",
      "<LINE_NUM>2</LINE_NUM>\n",
      "<FR_CODE>203</FR_CODE>\n",
      "</row>\n",
      "<row>\n",
      "<STATION_CD>0204</STATION_CD>\n",
      "<STATION_NM>을지로4가</STATION_NM>\n",
      "<LINE_NUM>2</LINE_NUM>\n",
      "<FR_CODE>204</FR_CODE>\n",
      "</row>\n",
      "<row>\n",
      "<STATION_CD>0205</STATION_CD>\n",
      "<STATION_NM>동대문역사문화공원</STATION_NM>\n",
      "<LINE_NUM>2</LINE_NUM>\n",
      "<FR_CODE>205</FR_CODE>\n",
      "</row>\n",
      "<row>\n",
      "<STATION_CD>0206</STATION_CD>\n",
      "<STATION_NM>신당</STATION_NM>\n",
      "<LINE_NUM>2</LINE_NUM>\n",
      "<FR_CODE>206</FR_CODE>\n",
      "</row>\n",
      "<row>\n",
      "<STATION_CD>0207</STATION_CD>\n",
      "<STATION_NM>상왕십리</STATION_NM>\n",
      "<LINE_NUM>2</LINE_NUM>\n",
      "<FR_CODE>207</FR_CODE>\n",
      "</row>\n",
      "<row>\n",
      "<STATION_CD>0208</STATION_CD>\n",
      "<STATION_NM>왕십리</STATION_NM>\n",
      "<LINE_NUM>2</LINE_NUM>\n",
      "<FR_CODE>208</FR_CODE>\n",
      "</row>\n",
      "<row>\n",
      "<STATION_CD>0209</STATION_CD>\n",
      "<STATION_NM>한양대</STATION_NM>\n",
      "<LINE_NUM>2</LINE_NUM>\n",
      "<FR_CODE>209</FR_CODE>\n",
      "</row>\n",
      "<row>\n",
      "<STATION_CD>0210</STATION_CD>\n",
      "<STATION_NM>뚝섬</STATION_NM>\n",
      "<LINE_NUM>2</LINE_NUM>\n",
      "<FR_CODE>210</FR_CODE>\n",
      "</row>\n",
      "</SearchSTNBySubwayLineService>\n",
      "\n"
     ]
    }
   ],
   "source": [
    "#myurl 불러오기 방법 2\n",
    "\n",
    "import requests\n",
    "data=requests.get(myurl).text\n",
    "print data"
   ]
  },
  {
   "cell_type": "code",
   "execution_count": 53,
   "metadata": {
    "collapsed": false
   },
   "outputs": [
    {
     "data": {
      "text/plain": [
       "unicode"
      ]
     },
     "execution_count": 53,
     "metadata": {},
     "output_type": "execute_result"
    }
   ],
   "source": [
    "type(data)"
   ]
  },
  {
   "cell_type": "markdown",
   "metadata": {},
   "source": [
    "## REGULAR"
   ]
  },
  {
   "cell_type": "code",
   "execution_count": 55,
   "metadata": {
    "collapsed": false
   },
   "outputs": [],
   "source": [
    "import re\n",
    "s=re.compile('<STATION_NM>(.+?)</STATION_NM>')\n",
    "res=s.findall(data)"
   ]
  },
  {
   "cell_type": "code",
   "execution_count": 56,
   "metadata": {
    "collapsed": false
   },
   "outputs": [
    {
     "name": "stdout",
     "output_type": "stream",
     "text": [
      "시청\n",
      "을지로입구\n",
      "을지로3가\n",
      "을지로4가\n",
      "동대문역사문화공원\n",
      "신당\n",
      "상왕십리\n",
      "왕십리\n",
      "한양대\n",
      "뚝섬\n"
     ]
    }
   ],
   "source": [
    "for i in res:\n",
    "    print i"
   ]
  },
  {
   "cell_type": "markdown",
   "metadata": {},
   "source": [
    "## xml"
   ]
  },
  {
   "cell_type": "code",
   "execution_count": 57,
   "metadata": {
    "collapsed": false
   },
   "outputs": [],
   "source": [
    "import xml.etree.ElementTree as ET\n",
    "tree=ET.fromstring(data.encode('utf-8'))"
   ]
  },
  {
   "cell_type": "code",
   "execution_count": 58,
   "metadata": {
    "collapsed": false
   },
   "outputs": [
    {
     "name": "stdout",
     "output_type": "stream",
     "text": [
      "0201\n",
      "시청\n",
      "2\n",
      "201\n",
      "0202\n",
      "을지로입구\n",
      "2\n",
      "202\n",
      "0203\n",
      "을지로3가\n",
      "2\n",
      "203\n",
      "0204\n",
      "을지로4가\n",
      "2\n",
      "204\n",
      "0205\n",
      "동대문역사문화공원\n",
      "2\n",
      "205\n",
      "0206\n",
      "신당\n",
      "2\n",
      "206\n",
      "0207\n",
      "상왕십리\n",
      "2\n",
      "207\n",
      "0208\n",
      "왕십리\n",
      "2\n",
      "208\n",
      "0209\n",
      "한양대\n",
      "2\n",
      "209\n",
      "0210\n",
      "뚝섬\n",
      "2\n",
      "210\n"
     ]
    }
   ],
   "source": [
    "stds=tree.findall('row')\n",
    "for elements in stds:\n",
    "    for elm in elements:\n",
    "        print elm.text"
   ]
  },
  {
   "cell_type": "markdown",
   "metadata": {},
   "source": [
    "## lxml"
   ]
  },
  {
   "cell_type": "code",
   "execution_count": 59,
   "metadata": {
    "collapsed": false
   },
   "outputs": [
    {
     "name": "stdout",
     "output_type": "stream",
     "text": [
      "시청\n",
      "을지로입구\n",
      "을지로3가\n",
      "을지로4가\n",
      "동대문역사문화공원\n",
      "신당\n",
      "상왕십리\n",
      "왕십리\n",
      "한양대\n",
      "뚝섬\n"
     ]
    }
   ],
   "source": [
    "import lxml\n",
    "import lxml.etree\n",
    "import StringIO\n",
    "\n",
    "tree=lxml.etree.fromstring(data.encode('utf-8'))\n",
    "\n",
    "nodes=tree.xpath('//STATION_NM')\n",
    "\n",
    "for node in nodes:\n",
    "    print node.text"
   ]
  }
 ],
 "metadata": {
  "kernelspec": {
   "display_name": "Python [Root]",
   "language": "python",
   "name": "Python [Root]"
  },
  "language_info": {
   "codemirror_mode": {
    "name": "ipython",
    "version": 2
   },
   "file_extension": ".py",
   "mimetype": "text/x-python",
   "name": "python",
   "nbconvert_exporter": "python",
   "pygments_lexer": "ipython2",
   "version": "2.7.12"
  }
 },
 "nbformat": 4,
 "nbformat_minor": 0
}
