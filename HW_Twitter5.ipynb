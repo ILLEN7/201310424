{
 "cells": [
  {
   "cell_type": "markdown",
   "metadata": {},
   "source": [
    "# HW. Titter-5: Follower를 가져온다."
   ]
  },
  {
   "cell_type": "code",
   "execution_count": 4,
   "metadata": {
    "collapsed": true
   },
   "outputs": [],
   "source": [
    "#키값\n",
    "import os\n",
    "keyPath=os.path.join('C:/Users/ILLEN/Documents', 'src','key.properties')\n",
    "\n",
    "f=open(keyPath, 'r')\n",
    "lines=f.readlines()\n",
    "\n",
    "key=dict()\n",
    "for line in lines:\n",
    "    row=line.split('=')\n",
    "    row0=row[0]\n",
    "    key[row0]=row[1].strip()"
   ]
  },
  {
   "cell_type": "code",
   "execution_count": 5,
   "metadata": {
    "collapsed": false
   },
   "outputs": [
    {
     "name": "stdout",
     "output_type": "stream",
     "text": [
      "<twitter.api.Twitter object at 0x0000000003D23D68>\n"
     ]
    }
   ],
   "source": [
    "import twitter\n",
    "\n",
    "auth = twitter.oauth.OAuth(key['ACCESSTOKEN'],key['ACCESSTOKENSECRET'],\n",
    "                            key['CONSUMERKEY'], key['CONSUMERSECRET'])\n",
    "_client = twitter.Twitter(auth=auth)\n",
    "print _client"
   ]
  },
  {
   "cell_type": "code",
   "execution_count": 7,
   "metadata": {
    "collapsed": true
   },
   "outputs": [],
   "source": [
    "import oauth2 as oauth\n",
    "import json\n",
    "\n",
    "consumer = oauth.Consumer(key=key['CONSUMERKEY'], secret=key['CONSUMERSECRET'])\n",
    "token=oauth.Token(key=key['ACCESSTOKEN'], secret=key['ACCESSTOKENSECRET'])\n",
    "client = oauth.Client(consumer, token)"
   ]
  },
  {
   "cell_type": "code",
   "execution_count": 12,
   "metadata": {
    "collapsed": false
   },
   "outputs": [],
   "source": [
    "import urllib\n",
    "url = 'https://api.twitter.com/1.1/followers/list.json'\n",
    "\n",
    "response, content = client.request(url, method='GET')\n",
    "tfollower_json = json.loads(content)"
   ]
  },
  {
   "cell_type": "code",
   "execution_count": 14,
   "metadata": {
    "collapsed": false
   },
   "outputs": [
    {
     "name": "stdout",
     "output_type": "stream",
     "text": [
      "5\n",
      "<type 'dict'>\n"
     ]
    }
   ],
   "source": [
    "print len(tfollower_json)\n",
    "print type(tfollower_json)"
   ]
  },
  {
   "cell_type": "code",
   "execution_count": 15,
   "metadata": {
    "collapsed": false
   },
   "outputs": [
    {
     "name": "stdout",
     "output_type": "stream",
     "text": [
      "previous_cursor\n",
      "previous_cursor_str\n",
      "next_cursor\n",
      "users\n",
      "next_cursor_str\n"
     ]
    }
   ],
   "source": [
    "for k,v in tfollower_json.iteritems():\n",
    "    print k"
   ]
  },
  {
   "cell_type": "code",
   "execution_count": 16,
   "metadata": {
    "collapsed": false
   },
   "outputs": [
    {
     "name": "stdout",
     "output_type": "stream",
     "text": [
      "follow_request_sent\n",
      "has_extended_profile\n",
      "profile_use_background_image\n",
      "live_following\n",
      "default_profile_image\n",
      "id\n",
      "profile_background_image_url_https\n",
      "translator_type\n",
      "verified\n",
      "blocked_by\n",
      "profile_text_color\n",
      "muting\n",
      "profile_image_url_https\n",
      "profile_sidebar_fill_color\n",
      "entities\n",
      "followers_count\n",
      "profile_sidebar_border_color\n",
      "id_str\n",
      "profile_background_color\n",
      "listed_count\n",
      "status\n",
      "is_translation_enabled\n",
      "utc_offset\n",
      "statuses_count\n",
      "description\n",
      "friends_count\n",
      "location\n",
      "profile_link_color\n",
      "profile_image_url\n",
      "following\n",
      "geo_enabled\n",
      "blocking\n",
      "profile_background_image_url\n",
      "screen_name\n",
      "lang\n",
      "profile_background_tile\n",
      "favourites_count\n",
      "name\n",
      "notifications\n",
      "url\n",
      "created_at\n",
      "contributors_enabled\n",
      "time_zone\n",
      "protected\n",
      "default_profile\n",
      "is_translator\n"
     ]
    }
   ],
   "source": [
    "for k,v in tfollower_json['users'][0].iteritems():\n",
    "        print k"
   ]
  },
  {
   "cell_type": "code",
   "execution_count": 17,
   "metadata": {
    "collapsed": false
   },
   "outputs": [
    {
     "name": "stdout",
     "output_type": "stream",
     "text": [
      "785003992128512000 cn0304\n",
      "793665384012316673 Layla08_10\n"
     ]
    }
   ],
   "source": [
    "for i in tfollower_json['users']:\n",
    "    print i['id'],i['screen_name']"
   ]
  }
 ],
 "metadata": {
  "anaconda-cloud": {},
  "kernelspec": {
   "display_name": "Python [Root]",
   "language": "python",
   "name": "Python [Root]"
  },
  "language_info": {
   "codemirror_mode": {
    "name": "ipython",
    "version": 2
   },
   "file_extension": ".py",
   "mimetype": "text/x-python",
   "name": "python",
   "nbconvert_exporter": "python",
   "pygments_lexer": "ipython2",
   "version": "2.7.12"
  }
 },
 "nbformat": 4,
 "nbformat_minor": 0
}
