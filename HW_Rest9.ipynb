{
 "cells": [
  {
   "cell_type": "code",
   "execution_count": null,
   "metadata": {
    "collapsed": true
   },
   "outputs": [],
   "source": [
    "# HW. Rest-9: 서울시 종로구 관측소 현재 온도, 습도, 강수량 구하기"
   ]
  },
  {
   "cell_type": "code",
   "execution_count": 1,
   "metadata": {
    "collapsed": true
   },
   "outputs": [],
   "source": [
    "#키값\n",
    "import os\n",
    "keyPath=os.path.join('C:/Users/ILLEN/Documents', 'src','key.properties')\n",
    "\n",
    "f=open(keyPath, 'r')\n",
    "lines=f.readlines()\n",
    "\n",
    "key=dict()\n",
    "for line in lines:\n",
    "    row=line.split('=')\n",
    "    row0=row[0]\n",
    "    key[row0]=row[1].strip()"
   ]
  },
  {
   "cell_type": "code",
   "execution_count": 2,
   "metadata": {
    "collapsed": true
   },
   "outputs": [],
   "source": [
    "import requests\n",
    "import urlparse\n",
    "\n",
    "KEY=str(key['dataseoul'])\n",
    "TYPE='json'\n",
    "SERVICE='RealtimeWeatherStation'\n",
    "START_INDEX=str(1)\n",
    "END_INDEX=str(5)\n",
    "STN_NM=u'중구'"
   ]
  },
  {
   "cell_type": "code",
   "execution_count": 5,
   "metadata": {
    "collapsed": false
   },
   "outputs": [
    {
     "name": "stdout",
     "output_type": "stream",
     "text": [
      "http://openapi.seoul.go.kr:8088/77657243667369643133357a756f5350/json/RealtimeWeatherStation/1/5/중구\n"
     ]
    }
   ],
   "source": [
    "url=\"http://openapi.seoul.go.kr:8088/\"\n",
    "url+=KEY\n",
    "url+='/'\n",
    "url+=TYPE\n",
    "url+='/'\n",
    "url+=SERVICE\n",
    "url+='/'\n",
    "url+=str(START_INDEX)\n",
    "url+='/'\n",
    "url+=str(END_INDEX)\n",
    "url+='/'\n",
    "url+=STN_NM\n",
    "\n",
    "print url"
   ]
  },
  {
   "cell_type": "code",
   "execution_count": 7,
   "metadata": {
    "collapsed": true
   },
   "outputs": [],
   "source": [
    "myurl='http://openapi.seoul.go.kr:8088/77657243667369643133357a756f5350/json/RealtimeWeatherStation/1/5/중구'"
   ]
  },
  {
   "cell_type": "code",
   "execution_count": 10,
   "metadata": {
    "collapsed": false
   },
   "outputs": [
    {
     "name": "stdout",
     "output_type": "stream",
     "text": [
      "{\"RealtimeWeatherStation\":{\"list_total_count\":1,\"RESULT\":{\"CODE\":\"INFO-000\",\"MESSAGE\":\"정상 처리되었습니다\"},\"row\":[{\"SAWS_OBS_TM\":\"2016121300\",\"STN_NM\":\"중구\",\"SAWS_TA_AVG\":3.700000047683716,\"SAWS_HD\":43.29999923706055,\"CODE\":\"8\",\"NAME\":\"남남동\",\"SAWS_WS_AVG\":0.5,\"SAWS_RN_SUM\":0.0,\"SAWS_SOLAR\":0.0,\"SAWS_SHINE\":0.0}]}}\n"
     ]
    }
   ],
   "source": [
    "data=requests.get(url).text\n",
    "print data"
   ]
  }
 ],
 "metadata": {
  "kernelspec": {
   "display_name": "Python [Root]",
   "language": "python",
   "name": "Python [Root]"
  },
  "language_info": {
   "codemirror_mode": {
    "name": "ipython",
    "version": 2
   },
   "file_extension": ".py",
   "mimetype": "text/x-python",
   "name": "python",
   "nbconvert_exporter": "python",
   "pygments_lexer": "ipython2",
   "version": "2.7.12"
  }
 },
 "nbformat": 4,
 "nbformat_minor": 0
}
