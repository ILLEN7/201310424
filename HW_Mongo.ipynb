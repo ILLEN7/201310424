{
 "cells": [
  {
   "cell_type": "markdown",
   "metadata": {},
   "source": [
    "# 문제 mongo crud in python"
   ]
  },
  {
   "cell_type": "code",
   "execution_count": 2,
   "metadata": {
    "collapsed": true
   },
   "outputs": [],
   "source": [
    "import pymongo"
   ]
  },
  {
   "cell_type": "code",
   "execution_count": 4,
   "metadata": {
    "collapsed": true
   },
   "outputs": [],
   "source": [
    "from pymongo import MongoClient\n",
    "client = MongoClient('localhost:27017')\n",
    "db=client.Employees"
   ]
  },
  {
   "cell_type": "code",
   "execution_count": 5,
   "metadata": {
    "collapsed": true
   },
   "outputs": [],
   "source": [
    "_id=1\n",
    "_name='js'\n",
    "_age=11\n",
    "_country='ko'"
   ]
  },
  {
   "cell_type": "code",
   "execution_count": 6,
   "metadata": {
    "collapsed": false
   },
   "outputs": [
    {
     "name": "stderr",
     "output_type": "stream",
     "text": [
      "C:\\Users\\ILLEN\\Anaconda2\\lib\\site-packages\\ipykernel\\__main__.py:5: DeprecationWarning: insert is deprecated. Use insert_one or insert_many instead.\n"
     ]
    },
    {
     "data": {
      "text/plain": [
       "ObjectId('584ee5597a9b2518146ceac5')"
      ]
     },
     "execution_count": 6,
     "metadata": {},
     "output_type": "execute_result"
    }
   ],
   "source": [
    "db.mytable.insert({\n",
    "    'd': _id,\n",
    "    'name': _name,\n",
    "    'age': _age,\n",
    "    'country': _country\n",
    "})"
   ]
  },
  {
   "cell_type": "code",
   "execution_count": 10,
   "metadata": {
    "collapsed": false
   },
   "outputs": [
    {
     "data": {
      "text/plain": [
       "<pymongo.results.InsertOneResult at 0x3d733f0>"
      ]
     },
     "execution_count": 10,
     "metadata": {},
     "output_type": "execute_result"
    }
   ],
   "source": [
    "db.Employees.insert_one(\n",
    "    {\n",
    "    'd': _id,\n",
    "    'name': _name,\n",
    "    'age': _age,\n",
    "    'country': _country\n",
    "     })"
   ]
  },
  {
   "cell_type": "code",
   "execution_count": 11,
   "metadata": {
    "collapsed": false
   },
   "outputs": [
    {
     "name": "stdout",
     "output_type": "stream",
     "text": [
      "{u'country': u'ko', u'age': 11, u'_id': ObjectId('584ee58f7a9b2518146ceac6'), u'd': 1, u'name': u'js'}\n",
      "{u'country': u'ko', u'age': 11, u'_id': ObjectId('584ee5917a9b2518146ceac7'), u'd': 1, u'name': u'js'}\n"
     ]
    }
   ],
   "source": [
    "empCol = db.Employees.find()\n",
    "for emp in empCol:\n",
    "        print emp"
   ]
  },
  {
   "cell_type": "code",
   "execution_count": 12,
   "metadata": {
    "collapsed": false
   },
   "outputs": [
    {
     "data": {
      "text/plain": [
       "<pymongo.results.UpdateResult at 0x3c9b090>"
      ]
     },
     "execution_count": 12,
     "metadata": {},
     "output_type": "execute_result"
    }
   ],
   "source": [
    "_name='jslim'\n",
    "_age=123\n",
    "db.Employees.update_one(\n",
    "        {'id': _id},\n",
    "        {\n",
    "        '$set': {\n",
    "            'name':_name,\n",
    "            'age':_age,\n",
    "        }\n",
    "        }\n",
    "    )"
   ]
  },
  {
   "cell_type": "code",
   "execution_count": 13,
   "metadata": {
    "collapsed": false
   },
   "outputs": [
    {
     "name": "stdout",
     "output_type": "stream",
     "text": [
      "{u'country': u'ko', u'age': 11, u'_id': ObjectId('584ee58f7a9b2518146ceac6'), u'd': 1, u'name': u'js'}\n",
      "{u'country': u'ko', u'age': 11, u'_id': ObjectId('584ee5917a9b2518146ceac7'), u'd': 1, u'name': u'js'}\n"
     ]
    }
   ],
   "source": [
    "empCol = db.Employees.find()\n",
    "for emp in empCol:\n",
    "        print emp"
   ]
  }
 ],
 "metadata": {
  "kernelspec": {
   "display_name": "Python [Root]",
   "language": "python",
   "name": "Python [Root]"
  },
  "language_info": {
   "codemirror_mode": {
    "name": "ipython",
    "version": 2
   },
   "file_extension": ".py",
   "mimetype": "text/x-python",
   "name": "python",
   "nbconvert_exporter": "python",
   "pygments_lexer": "ipython2",
   "version": "2.7.12"
  }
 },
 "nbformat": 4,
 "nbformat_minor": 0
}
