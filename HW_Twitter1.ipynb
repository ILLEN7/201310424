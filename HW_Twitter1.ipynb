{
 "cells": [
  {
   "cell_type": "markdown",
   "metadata": {},
   "source": [
    "# T-1: Twitter에 'Hello World'를 쓴다."
   ]
  },
  {
   "cell_type": "code",
   "execution_count": 1,
   "metadata": {
    "collapsed": true
   },
   "outputs": [],
   "source": [
    "#키값\n",
    "import os\n",
    "keyPath=os.path.join('C:/Users/ILLEN/Documents', 'src','key.properties')\n",
    "\n",
    "f=open(keyPath, 'r')\n",
    "lines=f.readlines()\n",
    "\n",
    "key=dict()\n",
    "for line in lines:\n",
    "    row=line.split('=')\n",
    "    row0=row[0]\n",
    "    key[row0]=row[1].strip()"
   ]
  },
  {
   "cell_type": "code",
   "execution_count": 3,
   "metadata": {
    "collapsed": false
   },
   "outputs": [
    {
     "name": "stdout",
     "output_type": "stream",
     "text": [
      "<twitter.api.Twitter object at 0x0000000003D5DEB8>\n"
     ]
    }
   ],
   "source": [
    "#Twitter\n",
    "import twitter\n",
    "\n",
    "auth = twitter.oauth.OAuth(key['ACCESSTOKEN'],key['ACCESSTOKENSECRET'],\n",
    "                            key['CONSUMERKEY'], key['CONSUMERSECRET'])\n",
    "_client = twitter.Twitter(auth=auth)\n",
    "print _client"
   ]
  },
  {
   "cell_type": "code",
   "execution_count": 4,
   "metadata": {
    "collapsed": false,
    "scrolled": true
   },
   "outputs": [
    {
     "data": {
      "text/plain": [
       "{u'contributors': None,\n",
       " u'coordinates': None,\n",
       " u'created_at': u'Mon Dec 12 16:47:55 +0000 2016',\n",
       " u'entities': {u'hashtags': [],\n",
       "  u'symbols': [],\n",
       "  u'urls': [],\n",
       "  u'user_mentions': []},\n",
       " u'favorite_count': 0,\n",
       " u'favorited': False,\n",
       " u'geo': None,\n",
       " u'id': 808352693576028161L,\n",
       " u'id_str': u'808352693576028161',\n",
       " u'in_reply_to_screen_name': None,\n",
       " u'in_reply_to_status_id': None,\n",
       " u'in_reply_to_status_id_str': None,\n",
       " u'in_reply_to_user_id': None,\n",
       " u'in_reply_to_user_id_str': None,\n",
       " u'is_quote_status': False,\n",
       " u'lang': u'no',\n",
       " u'place': None,\n",
       " u'retweet_count': 0,\n",
       " u'retweeted': False,\n",
       " u'source': u'<a href=\"http://blog.naver.com/pioomon\" rel=\"nofollow\">ILLEN</a>',\n",
       " u'text': u'Hello Twitter 1 160924',\n",
       " u'truncated': False,\n",
       " u'user': {u'contributors_enabled': False,\n",
       "  u'created_at': u'Fri Oct 02 00:06:13 +0000 2015',\n",
       "  u'default_profile': True,\n",
       "  u'default_profile_image': True,\n",
       "  u'description': u'',\n",
       "  u'entities': {u'description': {u'urls': []}},\n",
       "  u'favourites_count': 0,\n",
       "  u'follow_request_sent': False,\n",
       "  u'followers_count': 2,\n",
       "  u'following': False,\n",
       "  u'friends_count': 20,\n",
       "  u'geo_enabled': False,\n",
       "  u'has_extended_profile': False,\n",
       "  u'id': 3838119796L,\n",
       "  u'id_str': u'3838119796',\n",
       "  u'is_translation_enabled': False,\n",
       "  u'is_translator': False,\n",
       "  u'lang': u'ko',\n",
       "  u'listed_count': 0,\n",
       "  u'location': u'',\n",
       "  u'name': u'ILLEN',\n",
       "  u'notifications': False,\n",
       "  u'profile_background_color': u'C0DEED',\n",
       "  u'profile_background_image_url': u'http://abs.twimg.com/images/themes/theme1/bg.png',\n",
       "  u'profile_background_image_url_https': u'https://abs.twimg.com/images/themes/theme1/bg.png',\n",
       "  u'profile_background_tile': False,\n",
       "  u'profile_image_url': u'http://abs.twimg.com/sticky/default_profile_images/default_profile_0_normal.png',\n",
       "  u'profile_image_url_https': u'https://abs.twimg.com/sticky/default_profile_images/default_profile_0_normal.png',\n",
       "  u'profile_link_color': u'1DA1F2',\n",
       "  u'profile_sidebar_border_color': u'C0DEED',\n",
       "  u'profile_sidebar_fill_color': u'DDEEF6',\n",
       "  u'profile_text_color': u'333333',\n",
       "  u'profile_use_background_image': True,\n",
       "  u'protected': False,\n",
       "  u'screen_name': u'ILLEN_M',\n",
       "  u'statuses_count': 6,\n",
       "  u'time_zone': None,\n",
       "  u'translator_type': u'none',\n",
       "  u'url': None,\n",
       "  u'utc_offset': None,\n",
       "  u'verified': False}}"
      ]
     },
     "execution_count": 4,
     "metadata": {},
     "output_type": "execute_result"
    }
   ],
   "source": [
    "_client.statuses.update(status=\"Hello Twitter 1 160924\")"
   ]
  }
 ],
 "metadata": {
  "kernelspec": {
   "display_name": "Python [Root]",
   "language": "python",
   "name": "Python [Root]"
  },
  "language_info": {
   "codemirror_mode": {
    "name": "ipython",
    "version": 2
   },
   "file_extension": ".py",
   "mimetype": "text/x-python",
   "name": "python",
   "nbconvert_exporter": "python",
   "pygments_lexer": "ipython2",
   "version": "2.7.12"
  }
 },
 "nbformat": 4,
 "nbformat_minor": 0
}
