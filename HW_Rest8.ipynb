{
 "cells": [
  {
   "cell_type": "markdown",
   "metadata": {},
   "source": [
    "# Rest-8: 서울 7016번 광화문~상명대까지 2015년 승하차 인원 월별 정류장별 최대 최소 구하기"
   ]
  },
  {
   "cell_type": "code",
   "execution_count": 1,
   "metadata": {
    "collapsed": true
   },
   "outputs": [],
   "source": [
    "#키값\n",
    "import os\n",
    "keyPath=os.path.join('C:/Users/ILLEN/Documents', 'src','key.properties')\n",
    "\n",
    "f=open(keyPath, 'r')\n",
    "lines=f.readlines()\n",
    "\n",
    "key=dict()\n",
    "for line in lines:\n",
    "    row=line.split('=')\n",
    "    row0=row[0]\n",
    "    key[row0]=row[1].strip()"
   ]
  },
  {
   "cell_type": "code",
   "execution_count": 4,
   "metadata": {
    "collapsed": false
   },
   "outputs": [
    {
     "name": "stdout",
     "output_type": "stream",
     "text": [
      "0\\xml\\CardBusStatisticsService\\1\\5\\201512\\7016\n"
     ]
    }
   ],
   "source": [
    "KEY=str(key['dataseoul'])\n",
    "TYPE='xml'\n",
    "SERVICE='CardBusStatisticsService'\n",
    "START_INDEX=str(1)\n",
    "END_INDEX=str(5)\n",
    "USE_MON=str(201512)\n",
    "BUS_ROUTE_NO=str(7016)\n",
    "\n",
    "params=os.path.join(KEY,TYPE,SERVICE,START_INDEX,END_INDEX,USE_MON,BUS_ROUTE_NO)\n",
    "print params[31:]"
   ]
  },
  {
   "cell_type": "code",
   "execution_count": 5,
   "metadata": {
    "collapsed": false
   },
   "outputs": [
    {
     "name": "stdout",
     "output_type": "stream",
     "text": [
      "http://openapi.seoul.go.kr:8088/77657243667369643133357a756f5350/xml/CardBusStatisticsService/1/5/201512/7016\n"
     ]
    }
   ],
   "source": [
    "url=\"http://openapi.seoul.go.kr:8088/\"\n",
    "url+=KEY\n",
    "url+='/'\n",
    "url+=TYPE\n",
    "url+='/'\n",
    "url+=SERVICE\n",
    "url+='/'\n",
    "url+=str(START_INDEX)\n",
    "url+='/'\n",
    "url+=str(END_INDEX)\n",
    "url+='/'\n",
    "url+=USE_MON\n",
    "url+='/'\n",
    "url+=BUS_ROUTE_NO\n",
    "\n",
    "print url"
   ]
  },
  {
   "cell_type": "code",
   "execution_count": 6,
   "metadata": {
    "collapsed": true
   },
   "outputs": [],
   "source": [
    "myurl='http://openapi.seoul.go.kr:8088/77657243667369643133357a756f5350/xml/CardBusStatisticsService/1/5/201512/7016'"
   ]
  },
  {
   "cell_type": "code",
   "execution_count": 7,
   "metadata": {
    "collapsed": false,
    "scrolled": true
   },
   "outputs": [
    {
     "name": "stdout",
     "output_type": "stream",
     "text": [
      "<?xml version=\"1.0\" encoding=\"UTF-8\"?>\n",
      "<CardBusStatisticsService>\n",
      "<list_total_count>106</list_total_count>\n",
      "<RESULT>\n",
      "<CODE>INFO-000</CODE>\n",
      "<MESSAGE>정상 처리되었습니다</MESSAGE>\n",
      "</RESULT>\n",
      "<row>\n",
      "<USE_MON>201512</USE_MON>\n",
      "<BUS_ROUTE_NO>7016</BUS_ROUTE_NO>\n",
      "<BUS_ROUTE_NM>7016번(은평차고지~상명대)</BUS_ROUTE_NM>\n",
      "<BUS_STA_NM>신촌오거리.현대백화점</BUS_STA_NM>\n",
      "<RIDE_PASGR_NUM>10416</RIDE_PASGR_NUM>\n",
      "<ALIGHT_PASGR_NUM>11279</ALIGHT_PASGR_NUM>\n",
      "<WORK_DT>20160308</WORK_DT>\n",
      "<COMMT/>\n",
      "</row>\n",
      "<row>\n",
      "<USE_MON>201512</USE_MON>\n",
      "<BUS_ROUTE_NO>7016</BUS_ROUTE_NO>\n",
      "<BUS_ROUTE_NM>7016번(은평차고지~상명대)</BUS_ROUTE_NM>\n",
      "<BUS_STA_NM>갈월동4호선숙대입구</BUS_STA_NM>\n",
      "<RIDE_PASGR_NUM>3968</RIDE_PASGR_NUM>\n",
      "<ALIGHT_PASGR_NUM>4525</ALIGHT_PASGR_NUM>\n",
      "<WORK_DT>20160308</WORK_DT>\n",
      "<COMMT/>\n",
      "</row>\n",
      "<row>\n",
      "<USE_MON>201512</USE_MON>\n",
      "<BUS_ROUTE_NO>7016</BUS_ROUTE_NO>\n",
      "<BUS_ROUTE_NM>7016번(은평차고지~상명대)</BUS_ROUTE_NM>\n",
      "<BUS_STA_NM>원효로1동.주민센터</BUS_STA_NM>\n",
      "<RIDE_PASGR_NUM>3582</RIDE_PASGR_NUM>\n",
      "<ALIGHT_PASGR_NUM>2481</ALIGHT_PASGR_NUM>\n",
      "<WORK_DT>20160308</WORK_DT>\n",
      "<COMMT/>\n",
      "</row>\n",
      "<row>\n",
      "<USE_MON>201512</USE_MON>\n",
      "<BUS_ROUTE_NO>7016</BUS_ROUTE_NO>\n",
      "<BUS_ROUTE_NM>7016번(은평차고지~상명대)</BUS_ROUTE_NM>\n",
      "<BUS_STA_NM>시청앞.덕수궁</BUS_STA_NM>\n",
      "<RIDE_PASGR_NUM>2734</RIDE_PASGR_NUM>\n",
      "<ALIGHT_PASGR_NUM>13605</ALIGHT_PASGR_NUM>\n",
      "<WORK_DT>20160308</WORK_DT>\n",
      "<COMMT/>\n",
      "</row>\n",
      "<row>\n",
      "<USE_MON>201512</USE_MON>\n",
      "<BUS_ROUTE_NO>7016</BUS_ROUTE_NO>\n",
      "<BUS_ROUTE_NM>7016번(은평차고지~상명대)</BUS_ROUTE_NM>\n",
      "<BUS_STA_NM>서울역버스환승센터</BUS_STA_NM>\n",
      "<RIDE_PASGR_NUM>6736</RIDE_PASGR_NUM>\n",
      "<ALIGHT_PASGR_NUM>15158</ALIGHT_PASGR_NUM>\n",
      "<WORK_DT>20160308</WORK_DT>\n",
      "<COMMT/>\n",
      "</row>\n",
      "</CardBusStatisticsService>\n",
      "\n"
     ]
    }
   ],
   "source": [
    "data=requests.get(myurl).text\n",
    "print data"
   ]
  }
 ],
 "metadata": {
  "anaconda-cloud": {},
  "kernelspec": {
   "display_name": "Python [Root]",
   "language": "python",
   "name": "Python [Root]"
  },
  "language_info": {
   "codemirror_mode": {
    "name": "ipython",
    "version": 2
   },
   "file_extension": ".py",
   "mimetype": "text/x-python",
   "name": "python",
   "nbconvert_exporter": "python",
   "pygments_lexer": "ipython2",
   "version": "2.7.12"
  }
 },
 "nbformat": 4,
 "nbformat_minor": 0
}
