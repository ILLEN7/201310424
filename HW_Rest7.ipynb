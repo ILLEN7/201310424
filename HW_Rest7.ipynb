{
 "cells": [
  {
   "cell_type": "markdown",
   "metadata": {},
   "source": [
    "# HW. Rest-7: 2013년 1년 동안 지하철역 승하차 인원 저장하기"
   ]
  },
  {
   "cell_type": "code",
   "execution_count": 2,
   "metadata": {
    "collapsed": true
   },
   "outputs": [],
   "source": [
    "#키값\n",
    "import os\n",
    "keyPath=os.path.join('C:/Users/ILLEN/Documents', 'src','key.properties')\n",
    "\n",
    "f=open(keyPath, 'r')\n",
    "lines=f.readlines()\n",
    "\n",
    "key=dict()\n",
    "for line in lines:\n",
    "    row=line.split('=')\n",
    "    row0=row[0]\n",
    "    key[row0]=row[1].strip()"
   ]
  },
  {
   "cell_type": "code",
   "execution_count": 3,
   "metadata": {
    "collapsed": false
   },
   "outputs": [
    {
     "name": "stdout",
     "output_type": "stream",
     "text": [
      "77657243667369643133357a756f5350\n"
     ]
    }
   ],
   "source": [
    "print key['dataseoul']"
   ]
  },
  {
   "cell_type": "code",
   "execution_count": 54,
   "metadata": {
    "collapsed": true
   },
   "outputs": [],
   "source": [
    "import requests\n",
    "import urlparse\n",
    "\n",
    "KEY=str(key['dataseoul'])\n",
    "TYPE='json'\n",
    "SERVICE='CardSubwayStatisticsService'\n",
    "START_INDEX=1\n",
    "END_INDEX=5\n",
    "USE_MON='201306'"
   ]
  },
  {
   "cell_type": "code",
   "execution_count": 55,
   "metadata": {
    "collapsed": false
   },
   "outputs": [
    {
     "name": "stdout",
     "output_type": "stream",
     "text": [
      "http://openapi.seoul.go.kr:8088/77657243667369643133357a756f5350/json/CardSubwayStatisticsService/1/5/201306\n"
     ]
    }
   ],
   "source": [
    "url=\"http://openapi.seoul.go.kr:8088/\"\n",
    "url+=KEY\n",
    "url+='/'\n",
    "url+=TYPE\n",
    "url+='/'\n",
    "url+=SERVICE\n",
    "url+='/'\n",
    "url+=str(START_INDEX)\n",
    "url+='/'\n",
    "url+=str(END_INDEX)\n",
    "url+='/'\n",
    "url+=USE_MON\n",
    "\n",
    "print url"
   ]
  },
  {
   "cell_type": "code",
   "execution_count": 56,
   "metadata": {
    "collapsed": true
   },
   "outputs": [],
   "source": [
    "myurl='http://openapi.seoul.go.kr:8088/77657243667369643133357a756f5350/json/CardSubwayStatisticsService/1/5/201306'"
   ]
  },
  {
   "cell_type": "code",
   "execution_count": 61,
   "metadata": {
    "collapsed": false,
    "scrolled": true
   },
   "outputs": [
    {
     "name": "stdout",
     "output_type": "stream",
     "text": [
      "{\"CardSubwayStatisticsService\":{\"list_total_count\":530,\"RESULT\":{\"CODE\":\"INFO-000\",\"MESSAGE\":\"정상 처리되었습니다\"},\"row\":[{\"USE_MON\":\"201306\",\"LINE_NUM\":\"중앙선\",\"SUB_STA_NM\":\"용문\",\"RIDE_PASGR_NUM\":111275.0,\"ALIGHT_PASGR_NUM\":108878.0,\"WORK_DT\":\"20130723\",\"COMMT\":\"\"},{\"USE_MON\":\"201306\",\"LINE_NUM\":\"중앙선\",\"SUB_STA_NM\":\"원덕\",\"RIDE_PASGR_NUM\":11495.0,\"ALIGHT_PASGR_NUM\":10964.0,\"WORK_DT\":\"20130723\",\"COMMT\":\"\"},{\"USE_MON\":\"201306\",\"LINE_NUM\":\"중앙선\",\"SUB_STA_NM\":\"양평\",\"RIDE_PASGR_NUM\":118103.0,\"ALIGHT_PASGR_NUM\":116604.0,\"WORK_DT\":\"20130723\",\"COMMT\":\"\"},{\"USE_MON\":\"201306\",\"LINE_NUM\":\"중앙선\",\"SUB_STA_NM\":\"오빈\",\"RIDE_PASGR_NUM\":10590.0,\"ALIGHT_PASGR_NUM\":10020.0,\"WORK_DT\":\"20130723\",\"COMMT\":\"\"},{\"USE_MON\":\"201306\",\"LINE_NUM\":\"중앙선\",\"SUB_STA_NM\":\"아신\",\"RIDE_PASGR_NUM\":26304.0,\"ALIGHT_PASGR_NUM\":26358.0,\"WORK_DT\":\"20130723\",\"COMMT\":\"\"}]}}\n"
     ]
    }
   ],
   "source": [
    "import requests\n",
    "response=requests.get(myurl).text\n",
    "print response"
   ]
  },
  {
   "cell_type": "code",
   "execution_count": 62,
   "metadata": {
    "collapsed": false
   },
   "outputs": [],
   "source": [
    "import json\n",
    "jd= json.loads(response)"
   ]
  },
  {
   "cell_type": "code",
   "execution_count": null,
   "metadata": {
    "collapsed": true
   },
   "outputs": [],
   "source": [
    "#Mongo DB 구동방법\n",
    "# 1. prompt 창을 띄우고, mongod --dbpath C:/MongoDB/data 를 친다.\n",
    "# 2. 새로운 prompt 창을 띄우고, mongo 를 친다."
   ]
  },
  {
   "cell_type": "code",
   "execution_count": 34,
   "metadata": {
    "collapsed": true
   },
   "outputs": [],
   "source": [
    "import pymongo"
   ]
  },
  {
   "cell_type": "code",
   "execution_count": 35,
   "metadata": {
    "collapsed": true
   },
   "outputs": [],
   "source": [
    "from pymongo import MongoClient\n",
    "client=MongoClient('localhost:27017')"
   ]
  },
  {
   "cell_type": "code",
   "execution_count": 46,
   "metadata": {
    "collapsed": false
   },
   "outputs": [],
   "source": [
    "db=client.seouldata"
   ]
  },
  {
   "cell_type": "code",
   "execution_count": 63,
   "metadata": {
    "collapsed": false
   },
   "outputs": [
    {
     "name": "stderr",
     "output_type": "stream",
     "text": [
      "C:\\Users\\ILLEN\\Anaconda2\\lib\\site-packages\\ipykernel\\__main__.py:2: DeprecationWarning: insert is deprecated. Use insert_one or insert_many instead.\n",
      "  from ipykernel import kernelapp as app\n"
     ]
    },
    {
     "ename": "TypeError",
     "evalue": "'unicode' object does not support item assignment",
     "output_type": "error",
     "traceback": [
      "\u001b[1;31m---------------------------------------------------------------------------\u001b[0m",
      "\u001b[1;31mTypeError\u001b[0m                                 Traceback (most recent call last)",
      "\u001b[1;32m<ipython-input-63-16138a439355>\u001b[0m in \u001b[0;36m<module>\u001b[1;34m()\u001b[0m\n\u001b[0;32m      1\u001b[0m db.myseoul.insert({\n\u001b[1;32m----> 2\u001b[1;33m         \u001b[0mresponse\u001b[0m\u001b[1;33m\u001b[0m\u001b[0m\n\u001b[0m\u001b[0;32m      3\u001b[0m     })\n",
      "\u001b[1;32mC:\\Users\\ILLEN\\Anaconda2\\lib\\site-packages\\pymongo\\collection.pyc\u001b[0m in \u001b[0;36minsert\u001b[1;34m(self, doc_or_docs, manipulate, check_keys, continue_on_error, **kwargs)\u001b[0m\n\u001b[0;32m   2210\u001b[0m         \u001b[1;32mwith\u001b[0m \u001b[0mself\u001b[0m\u001b[1;33m.\u001b[0m\u001b[0m_socket_for_writes\u001b[0m\u001b[1;33m(\u001b[0m\u001b[1;33m)\u001b[0m \u001b[1;32mas\u001b[0m \u001b[0msock_info\u001b[0m\u001b[1;33m:\u001b[0m\u001b[1;33m\u001b[0m\u001b[0m\n\u001b[0;32m   2211\u001b[0m             return self._insert(sock_info, doc_or_docs, not continue_on_error,\n\u001b[1;32m-> 2212\u001b[1;33m                                 check_keys, manipulate, write_concern)\n\u001b[0m\u001b[0;32m   2213\u001b[0m \u001b[1;33m\u001b[0m\u001b[0m\n\u001b[0;32m   2214\u001b[0m     def update(self, spec, document, upsert=False, manipulate=False,\n",
      "\u001b[1;32mC:\\Users\\ILLEN\\Anaconda2\\lib\\site-packages\\pymongo\\collection.pyc\u001b[0m in \u001b[0;36m_insert\u001b[1;34m(self, sock_info, docs, ordered, check_keys, manipulate, write_concern, op_id, bypass_doc_val)\u001b[0m\n\u001b[0;32m    581\u001b[0m             results = message._do_batched_write_command(\n\u001b[0;32m    582\u001b[0m                 \u001b[0mself\u001b[0m\u001b[1;33m.\u001b[0m\u001b[0mdatabase\u001b[0m\u001b[1;33m.\u001b[0m\u001b[0mname\u001b[0m \u001b[1;33m+\u001b[0m \u001b[1;34m\".$cmd\"\u001b[0m\u001b[1;33m,\u001b[0m \u001b[0mmessage\u001b[0m\u001b[1;33m.\u001b[0m\u001b[0m_INSERT\u001b[0m\u001b[1;33m,\u001b[0m \u001b[0mcommand\u001b[0m\u001b[1;33m,\u001b[0m\u001b[1;33m\u001b[0m\u001b[0m\n\u001b[1;32m--> 583\u001b[1;33m                 gen(), check_keys, self.__write_response_codec_options, bwc)\n\u001b[0m\u001b[0;32m    584\u001b[0m             \u001b[0m_check_write_command_response\u001b[0m\u001b[1;33m(\u001b[0m\u001b[0mresults\u001b[0m\u001b[1;33m)\u001b[0m\u001b[1;33m\u001b[0m\u001b[0m\n\u001b[0;32m    585\u001b[0m         \u001b[1;32melse\u001b[0m\u001b[1;33m:\u001b[0m\u001b[1;33m\u001b[0m\u001b[0m\n",
      "\u001b[1;32mC:\\Users\\ILLEN\\Anaconda2\\lib\\site-packages\\pymongo\\collection.pyc\u001b[0m in \u001b[0;36mgen\u001b[1;34m()\u001b[0m\n\u001b[0;32m    549\u001b[0m                     \u001b[0mdoc\u001b[0m \u001b[1;33m=\u001b[0m \u001b[0m_db\u001b[0m\u001b[1;33m.\u001b[0m\u001b[0m_apply_incoming_manipulators\u001b[0m\u001b[1;33m(\u001b[0m\u001b[0mdoc\u001b[0m\u001b[1;33m,\u001b[0m \u001b[0mself\u001b[0m\u001b[1;33m)\u001b[0m\u001b[1;33m\u001b[0m\u001b[0m\n\u001b[0;32m    550\u001b[0m                     \u001b[1;32mif\u001b[0m \u001b[1;32mnot\u001b[0m \u001b[1;33m(\u001b[0m\u001b[0misinstance\u001b[0m\u001b[1;33m(\u001b[0m\u001b[0mdoc\u001b[0m\u001b[1;33m,\u001b[0m \u001b[0mRawBSONDocument\u001b[0m\u001b[1;33m)\u001b[0m \u001b[1;32mor\u001b[0m \u001b[1;34m'_id'\u001b[0m \u001b[1;32min\u001b[0m \u001b[0mdoc\u001b[0m\u001b[1;33m)\u001b[0m\u001b[1;33m:\u001b[0m\u001b[1;33m\u001b[0m\u001b[0m\n\u001b[1;32m--> 551\u001b[1;33m                         \u001b[0mdoc\u001b[0m\u001b[1;33m[\u001b[0m\u001b[1;34m'_id'\u001b[0m\u001b[1;33m]\u001b[0m \u001b[1;33m=\u001b[0m \u001b[0mObjectId\u001b[0m\u001b[1;33m(\u001b[0m\u001b[1;33m)\u001b[0m\u001b[1;33m\u001b[0m\u001b[0m\n\u001b[0m\u001b[0;32m    552\u001b[0m \u001b[1;33m\u001b[0m\u001b[0m\n\u001b[0;32m    553\u001b[0m                     \u001b[0mdoc\u001b[0m \u001b[1;33m=\u001b[0m \u001b[0m_db\u001b[0m\u001b[1;33m.\u001b[0m\u001b[0m_apply_incoming_copying_manipulators\u001b[0m\u001b[1;33m(\u001b[0m\u001b[0mdoc\u001b[0m\u001b[1;33m,\u001b[0m \u001b[0mself\u001b[0m\u001b[1;33m)\u001b[0m\u001b[1;33m\u001b[0m\u001b[0m\n",
      "\u001b[1;31mTypeError\u001b[0m: 'unicode' object does not support item assignment"
     ]
    }
   ],
   "source": [
    "db.myseoul.insert({\n",
    "        response\n",
    "    })"
   ]
  },
  {
   "cell_type": "code",
   "execution_count": 38,
   "metadata": {
    "collapsed": true
   },
   "outputs": [],
   "source": [
    "empCol=db.mytable.find()"
   ]
  },
  {
   "cell_type": "code",
   "execution_count": 39,
   "metadata": {
    "collapsed": false
   },
   "outputs": [
    {
     "data": {
      "text/plain": [
       "pymongo.cursor.Cursor"
      ]
     },
     "execution_count": 39,
     "metadata": {},
     "output_type": "execute_result"
    }
   ],
   "source": [
    "type(empCol)"
   ]
  },
  {
   "cell_type": "code",
   "execution_count": 40,
   "metadata": {
    "collapsed": false
   },
   "outputs": [
    {
     "name": "stdout",
     "output_type": "stream",
     "text": [
      "{u'EnglishName': u'ILLEN', u'_id': ObjectId('584806367a9b250250c42368')}\n"
     ]
    }
   ],
   "source": [
    "for emp in empCol:\n",
    "    print emp"
   ]
  },
  {
   "cell_type": "code",
   "execution_count": 41,
   "metadata": {
    "collapsed": false
   },
   "outputs": [
    {
     "data": {
      "text/plain": [
       "dict"
      ]
     },
     "execution_count": 41,
     "metadata": {},
     "output_type": "execute_result"
    }
   ],
   "source": [
    "type(emp)"
   ]
  },
  {
   "cell_type": "code",
   "execution_count": 43,
   "metadata": {
    "collapsed": false
   },
   "outputs": [
    {
     "data": {
      "text/plain": [
       "u'ILLEN'"
      ]
     },
     "execution_count": 43,
     "metadata": {},
     "output_type": "execute_result"
    }
   ],
   "source": [
    "emp['EnglishName']"
   ]
  }
 ],
 "metadata": {
  "kernelspec": {
   "display_name": "Python [Root]",
   "language": "python",
   "name": "Python [Root]"
  },
  "language_info": {
   "codemirror_mode": {
    "name": "ipython",
    "version": 2
   },
   "file_extension": ".py",
   "mimetype": "text/x-python",
   "name": "python",
   "nbconvert_exporter": "python",
   "pygments_lexer": "ipython2",
   "version": "2.7.12"
  }
 },
 "nbformat": 4,
 "nbformat_minor": 0
}
