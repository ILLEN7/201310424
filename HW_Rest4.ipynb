{
 "cells": [
  {
   "cell_type": "markdown",
   "metadata": {},
   "source": [
    "# REST-4. 서울시 외국인 주민 자녀 국적취득 년도별 시군구 합계 구하기"
   ]
  },
  {
   "cell_type": "code",
   "execution_count": 13,
   "metadata": {
    "collapsed": false
   },
   "outputs": [],
   "source": [
    "#키값"
   ]
  },
  {
   "cell_type": "code",
   "execution_count": 16,
   "metadata": {
    "collapsed": false
   },
   "outputs": [
    {
     "data": {
      "text/plain": [
       "u'C:\\\\Users\\\\ILLEN\\\\Documents\\\\201310424'"
      ]
     },
     "execution_count": 16,
     "metadata": {},
     "output_type": "execute_result"
    }
   ],
   "source": [
    "pwd"
   ]
  },
  {
   "cell_type": "code",
   "execution_count": 2,
   "metadata": {
    "collapsed": false
   },
   "outputs": [
    {
     "name": "stdout",
     "output_type": "stream",
     "text": [
      "C:/Users/ILLEN/Documents\\src\\key.properties\n"
     ]
    }
   ],
   "source": [
    "import os\n",
    "keyPath=os.path.join('C:/Users/ILLEN/Documents', 'src','key.properties')\n",
    "print keyPath"
   ]
  },
  {
   "cell_type": "code",
   "execution_count": 3,
   "metadata": {
    "collapsed": false
   },
   "outputs": [
    {
     "name": "stdout",
     "output_type": "stream",
     "text": [
      "['dataseoul=77657243667369643133357a756f5350\\n', 'gokr=oAtO4MUn%2FBFm4s72TY2vwayA8G4IVLNKGWzAO7GnE6qgB7TkVopFQ%2BPVIoIA%2FX0HiNdbyx1l5xnlrST%2FlDaGPQ%3D%3D\\n', 'CONSUMERKEY=CSStSYokutd2sBxnJR29rFWtx\\n', 'CONSUMERSECRET=YwfROVC83tAasqYjBPgE3xGWr1BjEJUO7yC4Qu0AXatu0IXZcn\\n', 'ACCESSTOKEN=3838119796-N6EFndEDrUG3lxhhgtO7G1iXn348Hjc5WvFbh5h\\n', 'ACCESSTOKENSECRET=nnhFRrADrnVtvj7pl7elBWq6C2GccVE6EeqP90LEHPu7z\\n', 'ClientID=j66L3qPCb3EdYvYKochF\\n', 'ClientSecret=C6MnhmJDhz']\n"
     ]
    }
   ],
   "source": [
    "f=open(keyPath, 'r')\n",
    "lines=f.readlines()\n",
    "print lines"
   ]
  },
  {
   "cell_type": "code",
   "execution_count": 4,
   "metadata": {
    "collapsed": false
   },
   "outputs": [
    {
     "name": "stdout",
     "output_type": "stream",
     "text": [
      "dataseoul 77657243667369643133357a756f5350\n",
      "\n",
      "gokr oAtO4MUn%2FBFm4s72TY2vwayA8G4IVLNKGWzAO7GnE6qgB7TkVopFQ%2BPVIoIA%2FX0HiNdbyx1l5xnlrST%2FlDaGPQ%3D%3D\n",
      "\n",
      "CONSUMERKEY CSStSYokutd2sBxnJR29rFWtx\n",
      "\n",
      "CONSUMERSECRET YwfROVC83tAasqYjBPgE3xGWr1BjEJUO7yC4Qu0AXatu0IXZcn\n",
      "\n",
      "ACCESSTOKEN 3838119796-N6EFndEDrUG3lxhhgtO7G1iXn348Hjc5WvFbh5h\n",
      "\n",
      "ACCESSTOKENSECRET nnhFRrADrnVtvj7pl7elBWq6C2GccVE6EeqP90LEHPu7z\n",
      "\n",
      "ClientID j66L3qPCb3EdYvYKochF\n",
      "\n",
      "ClientSecret C6MnhmJDhz\n"
     ]
    }
   ],
   "source": [
    "key=dict()\n",
    "for line in lines:\n",
    "    row=line.split('=')\n",
    "    print row[0], row[1]\n",
    "    row0=row[0]\n",
    "    key[row0]=row[1].strip()"
   ]
  },
  {
   "cell_type": "code",
   "execution_count": 5,
   "metadata": {
    "collapsed": false
   },
   "outputs": [
    {
     "name": "stdout",
     "output_type": "stream",
     "text": [
      "77657243667369643133357a756f5350\n"
     ]
    }
   ],
   "source": [
    "print key['dataseoul']"
   ]
  },
  {
   "cell_type": "code",
   "execution_count": 12,
   "metadata": {
    "collapsed": false
   },
   "outputs": [],
   "source": [
    "KEY=str(key['dataseoul'])\n",
    "TYPE='xml'\n",
    "SERVICE='ListLocaldata470401S'\n",
    "START_INDEX='1'\n",
    "END_INDEX='5'"
   ]
  },
  {
   "cell_type": "code",
   "execution_count": 13,
   "metadata": {
    "collapsed": false
   },
   "outputs": [
    {
     "name": "stdout",
     "output_type": "stream",
     "text": [
      "http://openapi.seoul.go.kr:8088/77657243667369643133357a756f5350/xml/ListLocaldata470401S/1/5\n"
     ]
    }
   ],
   "source": [
    "url='http://openapi.seoul.go.kr:8088/'\n",
    "url+=KEY\n",
    "url+='/'\n",
    "url+=TYPE\n",
    "url+='/'\n",
    "url+=SERVICE\n",
    "url+='/'\n",
    "url+=START_INDEX\n",
    "url+='/'\n",
    "url+=END_INDEX\n",
    "print url"
   ]
  },
  {
   "cell_type": "code",
   "execution_count": 46,
   "metadata": {
    "collapsed": true
   },
   "outputs": [],
   "source": [
    "#출력"
   ]
  },
  {
   "cell_type": "code",
   "execution_count": 14,
   "metadata": {
    "collapsed": true
   },
   "outputs": [],
   "source": [
    "myurl='http://openapi.seoul.go.kr:8088/77657243667369643133357a756f5350/xml/ListLocaldata470401S/1/5'"
   ]
  },
  {
   "cell_type": "code",
   "execution_count": 15,
   "metadata": {
    "collapsed": false,
    "scrolled": true
   },
   "outputs": [
    {
     "name": "stdout",
     "output_type": "stream",
     "text": [
      "<?xml version=\"1.0\" encoding=\"UTF-8\"?><ListLocaldata470401S>\n",
      "<list_total_count>319</list_total_count>\n",
      "<RESULT>\n",
      "<CODE>INFO-000</CODE>\n",
      "<MESSAGE>정상 처리되었습니다</MESSAGE>\n",
      "</RESULT>\n",
      "<row>\n",
      "<SITUYM>2013</SITUYM>\n",
      "<CGGNM>서울특별시 은평구</CGGNM>\n",
      "<KDDETAILSENM>국적을 미취득한 자녀 만 19세 이상</KDDETAILSENM>\n",
      "<STATMAN>2</STATMAN>\n",
      "</row>\n",
      "<row>\n",
      "<SITUYM>2014</SITUYM>\n",
      "<CGGNM>서울특별시 마포구</CGGNM>\n",
      "<KDDETAILSENM>국적취득한 자녀 만 18세 이하</KDDETAILSENM>\n",
      "<STATMAN>1016</STATMAN>\n",
      "</row>\n",
      "<row>\n",
      "<SITUYM>2012</SITUYM>\n",
      "<CGGNM>서울특별시 양천구</CGGNM>\n",
      "<KDDETAILSENM>국적을 미취득한 자녀 만 18세 이하</KDDETAILSENM>\n",
      "<STATMAN>1148</STATMAN>\n",
      "</row>\n",
      "<row>\n",
      "<SITUYM>2012</SITUYM>\n",
      "<CGGNM>서울특별시 강서구</CGGNM>\n",
      "<KDDETAILSENM>국적을 미취득한 자녀 만 19세 이상</KDDETAILSENM>\n",
      "<STATMAN>327</STATMAN>\n",
      "</row>\n",
      "<row>\n",
      "<SITUYM>2013</SITUYM>\n",
      "<CGGNM>서울특별시 금천구</CGGNM>\n",
      "<KDDETAILSENM>국적을 미취득한 자녀 만 19세 이상</KDDETAILSENM>\n",
      "<STATMAN>21</STATMAN>\n",
      "</row>\n",
      "</ListLocaldata470401S>\n",
      "\n"
     ]
    }
   ],
   "source": [
    "import requests\n",
    "data=requests.get(url).text\n",
    "print data"
   ]
  },
  {
   "cell_type": "code",
   "execution_count": 16,
   "metadata": {
    "collapsed": false
   },
   "outputs": [
    {
     "name": "stdout",
     "output_type": "stream",
     "text": [
      "<type 'str'>\n"
     ]
    }
   ],
   "source": [
    "print type(data.encode('utf-8'))"
   ]
  },
  {
   "cell_type": "code",
   "execution_count": 17,
   "metadata": {
    "collapsed": false
   },
   "outputs": [
    {
     "name": "stdout",
     "output_type": "stream",
     "text": [
      "2\n",
      "1016\n",
      "1148\n",
      "327\n",
      "21\n"
     ]
    }
   ],
   "source": [
    "import lxml\n",
    "import lxml.etree\n",
    "import StringIO\n",
    "\n",
    "#tree=lxml.etree.parse(StringIO.StringIO(data.encode('utf-8')))\n",
    "tree=lxml.etree.fromstring(data.encode('utf-8'))\n",
    "\n",
    "nodes=tree.xpath('//STATMAN')\n",
    "for node in nodes:\n",
    "    print node.text"
   ]
  }
 ],
 "metadata": {
  "anaconda-cloud": {},
  "kernelspec": {
   "display_name": "Python [Root]",
   "language": "python",
   "name": "Python [Root]"
  },
  "language_info": {
   "codemirror_mode": {
    "name": "ipython",
    "version": 2
   },
   "file_extension": ".py",
   "mimetype": "text/x-python",
   "name": "python",
   "nbconvert_exporter": "python",
   "pygments_lexer": "ipython2",
   "version": "2.7.12"
  }
 },
 "nbformat": 4,
 "nbformat_minor": 0
}
